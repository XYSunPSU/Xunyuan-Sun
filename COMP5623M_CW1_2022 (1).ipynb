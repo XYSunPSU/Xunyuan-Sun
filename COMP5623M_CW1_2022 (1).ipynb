{
 "cells": [
  {
   "cell_type": "markdown",
   "metadata": {
    "id": "LR4bovYL4CJz"
   },
   "source": [
    "## COMP5623M Assessment Coursework 1 - Image Classification [100 marks]\n",
    "\n",
    "The maximum number of marks for each part are shown in the section headers. As indicated in the main heading above, the overall assessment carries a maximum of 100 marks.\n",
    "\n",
    "This summative assessment is weighted 25% of the final grade for the module.\n",
    "\n",
    "### Motivation \n",
    "\n",
    "Through this coursework, you will:\n",
    "\n",
    "> 1. Practice building, evaluating, and finetuning a convolutional neural network on an image dataset from development to testing. \n",
    "> 2. Gain a deeper understanding of feature maps and filters by visualizing some from a pre-trained network. \n",
    "\n",
    "\n",
    "### Setup and resources \n",
    "\n",
    "You must work using this provided template notebook.\n",
    "\n",
    "Having a GPU will speed up the training process, especially for Question 1.3. See the provided document on Minerva about setting up a working environment for various ways to access a GPU.\n",
    "\n",
    "Please implement the coursework using **Python and PyTorch**, and refer to the notebooks and exercises provided.\n",
    "\n",
    "This coursework will use a subset of images from Tiny ImageNet, which is a subset of the ImageNet dataset [https://image-net.org/]. Our subset of Tiny ImageNet contains 30 different categories, we will refer to it as TinyImageNet30. The training set has 450 resized images (64x64 pixels) for each category (13,500 images in total). You can download the training and test set from the Kaggle website:\n",
    "\n",
    ">[Private class Kaggle competition and data](https://www.kaggle.com/t/9b703e0d71824a658e186d5f69960e27)\n",
    "\n",
    "To access the dataset, you will need an account on the Kaggle website. Even if you have an existing Kaggle account, please carefully adhere to these instructions, or we may not be able to locate your entries:\n",
    "\n",
    "> 1. Use your **university email** to register a new account.\n",
    "> 2. Set your **Kaggle account NAME** to your university username, for example, ``sc15jb``.\n",
    "\n",
    "The class Kaggle competition also includes a blind test set, which will be used in Question 1 for evaluating your custom model's performance on a test set. The competition website will compute the test set accuracy, as well as position your model on the class leaderboard.\n",
    "\n",
    "### Submission\n",
    "\n",
    "Please submit the following:\n",
    "\n",
    "> 1. Your completed Jupyter notebook file, without removing anything in the template, in **.ipynb format.**\n",
    "> 2. The **.html version** of your notebook; File > Download as > HTML (.html). Check that all cells have been run and all outputs (including all graphs you would like to be marked) displayed in the .html for marking.\n",
    "> 3. Your selected image from section 2.4.2 \"Failure analysis\"\n",
    "\n",
    "Final note:\n",
    "\n",
    "> **Please display everything that you would like to be marked. Under each section, put the relevant code containing your solution. You may re-use functions you defined previously, but any new code must be in the relevant section.** Feel free to add as many code cells as you need under each section.\n",
    "\n",
    "Your student username (for example, ```sc15jb```):\n"
   ]
  },
  {
   "cell_type": "markdown",
   "metadata": {},
   "source": [
    "--> ml20j22l"
   ]
  },
  {
   "cell_type": "markdown",
   "metadata": {},
   "source": [
    "Your full name:"
   ]
  },
  {
   "cell_type": "markdown",
   "metadata": {},
   "source": [
    "--> Jiachen Liu"
   ]
  },
  {
   "cell_type": "markdown",
   "metadata": {},
   "source": [
    "## Imports\n",
    "\n",
    "Feel free to add to this section as needed.\n",
    "\n",
    "You may need to download `cv2` using [pip](https://pypi.org/project/opencv-python/) or [conda](https://anaconda.org/conda-forge/opencv)."
   ]
  },
  {
   "cell_type": "code",
   "execution_count": 2,
   "metadata": {},
   "outputs": [
    {
     "name": "stdout",
     "output_type": "stream",
     "text": [
      "Collecting opencv-python\n",
      "  Downloading opencv_python-4.5.5.62-cp36-abi3-win_amd64.whl (35.4 MB)\n",
      "Requirement already satisfied: numpy>=1.14.5 in c:\\users\\lenovo\\anaconda3\\lib\\site-packages (from opencv-python) (1.20.1)\n",
      "Installing collected packages: opencv-python\n",
      "Successfully installed opencv-python-4.5.5.62\n",
      "Note: you may need to restart the kernel to use updated packages.\n"
     ]
    }
   ],
   "source": [
    "pip install opencv-python"
   ]
  },
  {
   "cell_type": "code",
   "execution_count": 4,
   "metadata": {},
   "outputs": [],
   "source": [
    "import cv2\n",
    "import math\n",
    "\n",
    "import numpy as np\n",
    "import torch\n",
    "import torch.nn as nn\n",
    "import torchvision.transforms as transforms\n",
    "from torch.hub import load_state_dict_from_url\n",
    "\n",
    "from PIL import Image\n",
    "import matplotlib.pyplot as plt"
   ]
  },
  {
   "cell_type": "markdown",
   "metadata": {
    "id": "kfR--uYXHdIi"
   },
   "source": [
    "## QUESTION 1 [55 marks]\n",
    "\n",
    "One challenge of building a deep learning model is to choose an architecture that can learn the features in the dataset without being unnecessarily complex. The first part of the coursework involves building a CNN and training it on TinyImageNet30. \n",
    "\n",
    "### **Overview:**\n",
    "*   **1.1.1** PyTorch ```Dataset``` and ```DataLoader``` classes\n",
    "*   **1.1.2** PyTorch ```Model``` class for simple CNN model\n",
    "*   **1.1.3** Overfitting on a single batch\n",
    "*   **1.2.1** Training on complete dataset\n",
    "*   **1.2.2** Fine-tuning model\n",
    "*   **1.2.3** Generating confusion matrices\n",
    "*   **1.3**   Testing on test set on Kaggle\n",
    "\n",
    "\n",
    "## 1.1 Single-batch training [14 marks]\n",
    "\n",
    "We will use a method of development called “single-batch training”, or \"overfitting a single batch\", in which we check that our model and the training code is working properly and can overfit a single training batch (i.e., we can drive the training loss to zero). Then we move on to training on the complete training set and adjust for any overfitting and fine-tune the model via regularisation.\n",
    "\n",
    "### 1.1.1 Dataset class [3 marks]\n",
    "\n",
    "Write a PyTorch ```Dataset``` class (an example [here](https://www.askpython.com/python-modules/pytorch-custom-datasets) for reference) which loads the TinyImage30 dataset and ```DataLoaders``` for training and validation sets.\n"
   ]
  },
  {
   "cell_type": "code",
   "execution_count": 12,
   "metadata": {},
   "outputs": [],
   "source": [
    "import os\n",
    "from PIL import Image\n",
    "from torch.utils.data import Dataset\n",
    "from sklearn.model_selection import train_test_split\n",
    "\n",
    "from torchvision import datasets, transforms\n",
    "from torch.utils.data import DataLoader\n",
    "# Define your own class LoadFromFolder\n",
    "class LoadFromFolder(Dataset):\n",
    "    def __init__(self, main_dir, transform):\n",
    "         \n",
    "        # Set the loading directory\n",
    "        self.main_dir = main_dir\n",
    "        self.transform = transform\n",
    "         \n",
    "        # List all images in folder and count them\n",
    "        all_imgs = os.listdir(main_dir)\n",
    "        self.total_imgs = natsorted(all_imgs)"
   ]
  },
  {
   "cell_type": "code",
   "execution_count": 13,
   "metadata": {},
   "outputs": [],
   "source": [
    "def __len__(self):\n",
    "    # Return the previously computed number of images\n",
    "    return len(self.total_imgs)"
   ]
  },
  {
   "cell_type": "code",
   "execution_count": 14,
   "metadata": {},
   "outputs": [],
   "source": [
    "def __getitem__(self, idx):\n",
    "    img_loc = os.path.join(self.main_dir, self.total_imgs[idx])\n",
    "     \n",
    "    # Use PIL for image loading\n",
    "    image = Image.open(img_loc).convert(\"RGB\")\n",
    "    # Apply the transformations\n",
    "    tensor_image = self.transform(image)\n",
    "    return tensor_image"
   ]
  },
  {
   "cell_type": "code",
   "execution_count": 17,
   "metadata": {},
   "outputs": [],
   "source": [
    "from torchvision.datasets import ImageFolder\n",
    "train_set_od = ImageFolder(\n",
    "    root=\"C:/Users/lenovo/Desktop/AI/comp5623m-2022/train_set/train_set\", \n",
    "    transform=transforms.ToTensor()\n",
    ")\n",
    "validation_set , train_set = train_test_split(train_set_od, test_size=0.75) \n",
    "\n",
    "train_loader = DataLoader(\n",
    "    train_set,\n",
    "    batch_size = 64,\n",
    "    shuffle = True,\n",
    "    num_workers = 1\n",
    ")\n",
    "validation_loader = DataLoader(\n",
    "    validation_set,\n",
    "    batch_size = 64,\n",
    "    shuffle = True,\n",
    "    num_workers = 1\n",
    ")"
   ]
  },
  {
   "cell_type": "markdown",
   "metadata": {},
   "source": [
    "### 1.1.2 Define a CNN model [3 marks]\n",
    "\n",
    "Create a new model class using a combination of convolutional and fully connected layers, ReLU, and max-pool. "
   ]
  },
  {
   "cell_type": "code",
   "execution_count": 18,
   "metadata": {},
   "outputs": [],
   "source": [
    "def stats(loader, net):\n",
    "    correct = 0\n",
    "    total = 0\n",
    "    running_loss = 0\n",
    "    n = 0    # counter for number of minibatches\n",
    "    with torch.no_grad():\n",
    "        for data in loader:\n",
    "            images, labels = data\n",
    "            outputs = net(images)      \n",
    "            \n",
    "            # accumulate loss\n",
    "            running_loss += loss_fn(outputs, labels)\n",
    "            n += 1\n",
    "            \n",
    "            # accumulate data for accuracy\n",
    "            _, predicted = torch.max(outputs.data, 1)\n",
    "            total += labels.size(0)    # add in the number of labels in this minibatch\n",
    "            correct += (predicted == labels).sum().item()  # add in the number of correct labels\n",
    "            \n",
    "    return running_loss/n, correct/total "
   ]
  },
  {
   "cell_type": "code",
   "execution_count": 24,
   "metadata": {},
   "outputs": [
    {
     "name": "stdout",
     "output_type": "stream",
     "text": [
      "torch.Size([8, 3, 5, 5])\n",
      "torch.Size([8])\n",
      "torch.Size([16, 8, 5, 5])\n",
      "torch.Size([16])\n",
      "torch.Size([64, 2704])\n",
      "torch.Size([64])\n",
      "torch.Size([30, 64])\n",
      "torch.Size([30])\n"
     ]
    }
   ],
   "source": [
    "# define a Model class\n",
    "net = nn.Sequential(\n",
    "    nn.Conv2d(in_channels=3,out_channels=8, kernel_size=5),    # no padding, stride=1, dilation=1 by default\n",
    "    nn.ReLU(),\n",
    "    nn.MaxPool2d(kernel_size=2, stride=2),\n",
    "    nn.Conv2d(in_channels=8,out_channels=16, kernel_size=5),\n",
    "    nn.ReLU(),\n",
    "    nn.MaxPool2d(kernel_size=2, stride=2),\n",
    "    nn.Flatten(),\n",
    "    nn.Linear(16*13*13,64),     # with 32x32 input, the feature map size reduces to 13x13 with 16 channels.\n",
    "    nn.ReLU(),\n",
    "    nn.Linear(64,30)\n",
    ")\n",
    "\n",
    "for param in net.parameters():\n",
    "    print(param.shape)"
   ]
  },
  {
   "cell_type": "markdown",
   "metadata": {},
   "source": [
    "### 1.1.3 Single-batch training [8 marks]\n",
    "\n",
    "Write the foundational code which trains your network given **one single batch** of training data and computes the loss on the complete validation set for each epoch. Set ```batch_size = 64```. \n",
    "\n",
    "Display the graph of the training and validation loss over training epochs, showing as long as necessary to show you can drive the training loss to zero.\n",
    "\n",
    "> Please leave all graphs and code you would like to be marked clearly displayed without needing to run code cells or wait for training.\n"
   ]
  },
  {
   "cell_type": "code",
   "execution_count": 25,
   "metadata": {},
   "outputs": [
    {
     "name": "stdout",
     "output_type": "stream",
     "text": [
      "epoch: 0 training loss:  3.408 training accuracy:  3.1%  test loss:  3.404 test accuracy:  3.0%\n",
      "epoch: 1 training loss:  3.408 training accuracy:  4.7%  test loss:  3.404 test accuracy:  3.1%\n",
      "epoch: 2 training loss:  3.406 training accuracy:  6.2%  test loss:  3.404 test accuracy:  3.1%\n",
      "epoch: 3 training loss:  3.404 training accuracy:  6.2%  test loss:  3.404 test accuracy:  3.2%\n",
      "epoch: 4 training loss:  3.402 training accuracy:  6.2%  test loss:  3.404 test accuracy:  3.2%\n",
      "epoch: 5 training loss:  3.400 training accuracy:  6.2%  test loss:  3.404 test accuracy:  3.3%\n",
      "epoch: 6 training loss:  3.397 training accuracy:  6.2%  test loss:  3.404 test accuracy:  3.1%\n",
      "epoch: 7 training loss:  3.395 training accuracy:  6.2%  test loss:  3.404 test accuracy:  3.2%\n",
      "epoch: 8 training loss:  3.393 training accuracy:  6.2%  test loss:  3.404 test accuracy:  3.2%\n",
      "epoch: 9 training loss:  3.390 training accuracy:  6.2%  test loss:  3.404 test accuracy:  3.2%\n",
      "epoch: 10 training loss:  3.388 training accuracy:  6.2%  test loss:  3.404 test accuracy:  3.2%\n",
      "epoch: 11 training loss:  3.386 training accuracy:  6.2%  test loss:  3.404 test accuracy:  3.2%\n",
      "epoch: 12 training loss:  3.384 training accuracy:  6.2%  test loss:  3.404 test accuracy:  3.2%\n",
      "epoch: 13 training loss:  3.381 training accuracy:  6.2%  test loss:  3.404 test accuracy:  3.2%\n",
      "epoch: 14 training loss:  3.379 training accuracy:  6.2%  test loss:  3.405 test accuracy:  3.2%\n",
      "epoch: 15 training loss:  3.376 training accuracy:  6.2%  test loss:  3.405 test accuracy:  3.2%\n",
      "epoch: 16 training loss:  3.373 training accuracy:  6.2%  test loss:  3.405 test accuracy:  3.2%\n",
      "epoch: 17 training loss:  3.370 training accuracy:  6.2%  test loss:  3.405 test accuracy:  3.2%\n",
      "epoch: 18 training loss:  3.367 training accuracy:  6.2%  test loss:  3.406 test accuracy:  3.2%\n",
      "epoch: 19 training loss:  3.364 training accuracy:  6.2%  test loss:  3.406 test accuracy:  3.2%\n",
      "epoch: 20 training loss:  3.360 training accuracy:  6.2%  test loss:  3.407 test accuracy:  3.2%\n",
      "epoch: 21 training loss:  3.356 training accuracy:  6.2%  test loss:  3.407 test accuracy:  3.2%\n",
      "epoch: 22 training loss:  3.352 training accuracy:  6.2%  test loss:  3.408 test accuracy:  3.2%\n",
      "epoch: 23 training loss:  3.348 training accuracy:  6.2%  test loss:  3.409 test accuracy:  3.2%\n",
      "epoch: 24 training loss:  3.343 training accuracy:  6.2%  test loss:  3.410 test accuracy:  3.2%\n",
      "epoch: 25 training loss:  3.337 training accuracy:  6.2%  test loss:  3.411 test accuracy:  3.2%\n",
      "epoch: 26 training loss:  3.332 training accuracy:  6.2%  test loss:  3.413 test accuracy:  3.2%\n",
      "epoch: 27 training loss:  3.326 training accuracy:  6.2%  test loss:  3.415 test accuracy:  3.2%\n",
      "epoch: 28 training loss:  3.320 training accuracy:  6.2%  test loss:  3.418 test accuracy:  3.2%\n",
      "epoch: 29 training loss:  3.313 training accuracy:  6.2%  test loss:  3.421 test accuracy:  3.2%\n",
      "epoch: 30 training loss:  3.305 training accuracy:  6.2%  test loss:  3.424 test accuracy:  3.2%\n",
      "epoch: 31 training loss:  3.298 training accuracy:  6.2%  test loss:  3.429 test accuracy:  3.2%\n",
      "epoch: 32 training loss:  3.289 training accuracy:  6.2%  test loss:  3.434 test accuracy:  3.2%\n",
      "epoch: 33 training loss:  3.281 training accuracy:  6.2%  test loss:  3.440 test accuracy:  3.3%\n",
      "epoch: 34 training loss:  3.272 training accuracy:  6.2%  test loss:  3.447 test accuracy:  3.3%\n",
      "epoch: 35 training loss:  3.262 training accuracy:  6.2%  test loss:  3.455 test accuracy:  3.4%\n",
      "epoch: 36 training loss:  3.253 training accuracy:  8.6%  test loss:  3.465 test accuracy:  3.5%\n",
      "epoch: 37 training loss:  3.243 training accuracy:  9.4%  test loss:  3.476 test accuracy:  3.6%\n",
      "epoch: 38 training loss:  3.233 training accuracy:  12.5%  test loss:  3.489 test accuracy:  3.4%\n",
      "epoch: 39 training loss:  3.223 training accuracy:  15.6%  test loss:  3.501 test accuracy:  3.2%\n",
      "epoch: 40 training loss:  3.213 training accuracy:  12.5%  test loss:  3.516 test accuracy:  3.2%\n",
      "epoch: 41 training loss:  3.203 training accuracy:  10.9%  test loss:  3.531 test accuracy:  3.0%\n",
      "epoch: 42 training loss:  3.193 training accuracy:  10.9%  test loss:  3.547 test accuracy:  2.9%\n",
      "epoch: 43 training loss:  3.183 training accuracy:  10.9%  test loss:  3.562 test accuracy:  2.9%\n",
      "epoch: 44 training loss:  3.173 training accuracy:  10.9%  test loss:  3.578 test accuracy:  2.9%\n",
      "epoch: 45 training loss:  3.163 training accuracy:  10.9%  test loss:  3.592 test accuracy:  2.9%\n",
      "epoch: 46 training loss:  3.153 training accuracy:  10.9%  test loss:  3.605 test accuracy:  2.9%\n",
      "epoch: 47 training loss:  3.142 training accuracy:  10.9%  test loss:  3.617 test accuracy:  2.9%\n",
      "epoch: 48 training loss:  3.132 training accuracy:  10.9%  test loss:  3.628 test accuracy:  2.9%\n",
      "epoch: 49 training loss:  3.122 training accuracy:  10.9%  test loss:  3.638 test accuracy:  2.9%\n"
     ]
    }
   ],
   "source": [
    "import torch.optim as optim\n",
    "nepochs = 50\n",
    "results_path = 'C:/Users/lenovo/Desktop/AI/train_set.pt'\n",
    "statsrec = np.zeros((4,nepochs))\n",
    "\n",
    "loss_fn = nn.CrossEntropyLoss()\n",
    "optimizer = optim.SGD(net.parameters(), lr=0.001, momentum=0.9)\n",
    "\n",
    "batch_train = next(iter(train_loader))\n",
    "\n",
    "batch_va = next(iter(validation_loader))\n",
    "\n",
    "for epoch in range(nepochs):  # loop over the dataset multiple times\n",
    "    correct = 0          # number of examples predicted correctly (for accuracy)\n",
    "    total = 0            # number of examples\n",
    "    running_loss = 0.0   # accumulated loss (for mean loss)\n",
    "    n = 0                # number of minibatches\n",
    "    for data in batch_train:\n",
    "        inputs, labels = batch_train\n",
    "        \n",
    "         # Zero the parameter gradients\n",
    "        optimizer.zero_grad()\n",
    "\n",
    "        # Forward, backward, and update parameters\n",
    "        outputs = net(inputs)\n",
    "        loss = loss_fn(outputs, labels)\n",
    "        loss.backward()\n",
    "        optimizer.step()\n",
    "    \n",
    "        # accumulate loss\n",
    "        running_loss += loss.item()\n",
    "        n += 1\n",
    "        \n",
    "        # accumulate data for accuracy\n",
    "        _, predicted = torch.max(outputs.data, 1)\n",
    "        total += labels.size(0)    # add in the number of labels in this minibatch\n",
    "        correct += (predicted == labels).sum().item()  # add in the number of correct labels\n",
    "    \n",
    "    # collect together statistics for this epoch\n",
    "    ltrn = running_loss/n\n",
    "    atrn = correct/total \n",
    "    ltst, atst = stats(validation_loader, net)\n",
    "    statsrec[:,epoch] = (ltrn, atrn, ltst, atst)\n",
    "    print(f\"epoch: {epoch} training loss: {ltrn: .3f} training accuracy: {atrn: .1%}  test loss: {ltst: .3f} test accuracy: {atst: .1%}\")\n",
    "\n",
    "# save network parameters, losses and accuracy\n",
    "torch.save({\"state_dict\": net.state_dict(), \"stats\": statsrec}, results_path)"
   ]
  },
  {
   "cell_type": "code",
   "execution_count": 26,
   "metadata": {},
   "outputs": [
    {
     "data": {
      "image/png": "[encoded data removed]",
      "text/plain": [
       "<Figure size 432x288 with 2 Axes>"
      ]
     },
     "metadata": {
      "needs_background": "light"
     },
     "output_type": "display_data"
    }
   ],
   "source": [
    "results_path = 'C:/Users/lenovo/Desktop/AI/train_set.pt'\n",
    "data = torch.load(results_path)\n",
    "statsrec = data[\"stats\"]\n",
    "fig, ax1 = plt.subplots()\n",
    "plt.plot(statsrec[0], 'r', label = 'training loss', )\n",
    "plt.plot(statsrec[2], 'g', label = 'test loss' )\n",
    "plt.legend(loc='lower right')\n",
    "plt.xlabel('epoch')\n",
    "plt.ylabel('loss')\n",
    "plt.title('Training and test loss, and test accuracy')\n",
    "ax2=ax1.twinx()\n",
    "ax2.plot(statsrec[1], 'm', label = 'training accuracy')\n",
    "ax2.plot(statsrec[3], 'b', label = 'test accuracy')\n",
    "ax2.set_ylabel('accuracy')\n",
    "plt.legend(loc='upper right')\n",
    "fig.savefig(\"roc1.jpg\")\n",
    "plt.show()"
   ]
  },
  {
   "cell_type": "markdown",
   "metadata": {},
   "source": [
    "\n",
    "\n",
    "## 1.2 Training on complete dataset [23 marks]\n",
    "\n",
    "### 1.2.1 Train CNN and show loss graph [6 marks]\n",
    "\n",
    "Train your model on the complete training dataset, and use the validation set to determine when to stop training.\n",
    "\n",
    "Display the graph of training and validation loss over epochs to show how you determined the optimal number of training epochs.\n",
    "\n",
    "> As in previous sections, please leave the graph clearly displayed.\n"
   ]
  },
  {
   "cell_type": "code",
   "execution_count": 27,
   "metadata": {},
   "outputs": [
    {
     "name": "stdout",
     "output_type": "stream",
     "text": [
      "epoch: 0 training loss:  3.414 training accuracy:  4.4%  test loss:  3.400 test accuracy:  5.0%\n",
      "epoch: 1 training loss:  3.396 training accuracy:  5.2%  test loss:  3.394 test accuracy:  5.5%\n",
      "epoch: 2 training loss:  3.388 training accuracy:  5.8%  test loss:  3.386 test accuracy:  5.7%\n",
      "epoch: 3 training loss:  3.372 training accuracy:  7.0%  test loss:  3.362 test accuracy:  7.0%\n",
      "epoch: 4 training loss:  3.330 training accuracy:  8.1%  test loss:  3.294 test accuracy:  9.4%\n",
      "epoch: 5 training loss:  3.227 training accuracy:  10.0%  test loss:  3.159 test accuracy:  11.1%\n",
      "epoch: 6 training loss:  3.123 training accuracy:  12.2%  test loss:  3.095 test accuracy:  13.6%\n",
      "epoch: 7 training loss:  3.050 training accuracy:  14.4%  test loss:  3.031 test accuracy:  14.7%\n",
      "epoch: 8 training loss:  2.998 training accuracy:  15.8%  test loss:  3.007 test accuracy:  15.1%\n",
      "epoch: 9 training loss:  2.960 training accuracy:  16.7%  test loss:  2.965 test accuracy:  17.2%\n",
      "epoch: 10 training loss:  2.927 training accuracy:  18.1%  test loss:  2.930 test accuracy:  17.7%\n",
      "epoch: 11 training loss:  2.887 training accuracy:  18.8%  test loss:  2.912 test accuracy:  17.5%\n",
      "epoch: 12 training loss:  2.847 training accuracy:  20.2%  test loss:  2.880 test accuracy:  18.5%\n",
      "epoch: 13 training loss:  2.800 training accuracy:  21.5%  test loss:  2.847 test accuracy:  19.8%\n",
      "epoch: 14 training loss:  2.741 training accuracy:  22.5%  test loss:  2.799 test accuracy:  20.8%\n",
      "epoch: 15 training loss:  2.697 training accuracy:  23.7%  test loss:  2.722 test accuracy:  23.1%\n",
      "epoch: 16 training loss:  2.651 training accuracy:  24.5%  test loss:  2.757 test accuracy:  21.8%\n",
      "epoch: 17 training loss:  2.602 training accuracy:  26.0%  test loss:  2.689 test accuracy:  23.6%\n",
      "epoch: 18 training loss:  2.542 training accuracy:  27.6%  test loss:  2.638 test accuracy:  26.2%\n",
      "epoch: 19 training loss:  2.506 training accuracy:  28.6%  test loss:  2.593 test accuracy:  26.5%\n",
      "epoch: 20 training loss:  2.453 training accuracy:  29.4%  test loss:  2.618 test accuracy:  26.8%\n",
      "epoch: 21 training loss:  2.395 training accuracy:  31.1%  test loss:  2.537 test accuracy:  28.0%\n",
      "epoch: 22 training loss:  2.339 training accuracy:  32.9%  test loss:  2.505 test accuracy:  28.5%\n",
      "epoch: 23 training loss:  2.294 training accuracy:  34.0%  test loss:  2.458 test accuracy:  30.8%\n",
      "epoch: 24 training loss:  2.241 training accuracy:  35.4%  test loss:  2.478 test accuracy:  29.9%\n",
      "epoch: 25 training loss:  2.182 training accuracy:  37.2%  test loss:  2.402 test accuracy:  31.7%\n",
      "epoch: 26 training loss:  2.151 training accuracy:  38.3%  test loss:  2.421 test accuracy:  32.0%\n",
      "epoch: 27 training loss:  2.099 training accuracy:  39.6%  test loss:  2.367 test accuracy:  32.4%\n",
      "epoch: 28 training loss:  2.068 training accuracy:  40.4%  test loss:  2.394 test accuracy:  33.1%\n",
      "epoch: 29 training loss:  2.029 training accuracy:  41.7%  test loss:  2.406 test accuracy:  32.4%\n",
      "epoch: 30 training loss:  1.978 training accuracy:  43.0%  test loss:  2.370 test accuracy:  34.8%\n",
      "epoch: 31 training loss:  1.963 training accuracy:  43.1%  test loss:  2.396 test accuracy:  33.2%\n",
      "epoch: 32 training loss:  1.918 training accuracy:  44.0%  test loss:  2.405 test accuracy:  33.6%\n",
      "epoch: 33 training loss:  1.882 training accuracy:  45.4%  test loss:  2.424 test accuracy:  34.0%\n",
      "epoch: 34 training loss:  1.845 training accuracy:  46.5%  test loss:  2.446 test accuracy:  33.8%\n",
      "epoch: 35 training loss:  1.811 training accuracy:  46.9%  test loss:  2.405 test accuracy:  35.1%\n",
      "epoch: 36 training loss:  1.784 training accuracy:  47.8%  test loss:  2.403 test accuracy:  34.6%\n",
      "epoch: 37 training loss:  1.761 training accuracy:  48.7%  test loss:  2.442 test accuracy:  33.4%\n",
      "epoch: 38 training loss:  1.697 training accuracy:  50.6%  test loss:  2.417 test accuracy:  34.4%\n",
      "epoch: 39 training loss:  1.667 training accuracy:  50.8%  test loss:  2.444 test accuracy:  35.1%\n",
      "epoch: 40 training loss:  1.621 training accuracy:  51.6%  test loss:  2.477 test accuracy:  33.9%\n",
      "epoch: 41 training loss:  1.591 training accuracy:  53.2%  test loss:  2.469 test accuracy:  34.5%\n",
      "epoch: 42 training loss:  1.553 training accuracy:  54.1%  test loss:  2.515 test accuracy:  34.4%\n",
      "epoch: 43 training loss:  1.526 training accuracy:  54.7%  test loss:  2.549 test accuracy:  34.7%\n",
      "epoch: 44 training loss:  1.479 training accuracy:  56.4%  test loss:  2.575 test accuracy:  34.2%\n",
      "epoch: 45 training loss:  1.451 training accuracy:  57.0%  test loss:  2.621 test accuracy:  33.5%\n",
      "epoch: 46 training loss:  1.414 training accuracy:  57.8%  test loss:  2.631 test accuracy:  33.3%\n",
      "epoch: 47 training loss:  1.373 training accuracy:  59.3%  test loss:  2.633 test accuracy:  33.8%\n",
      "epoch: 48 training loss:  1.335 training accuracy:  59.9%  test loss:  2.717 test accuracy:  31.5%\n",
      "epoch: 49 training loss:  1.302 training accuracy:  61.6%  test loss:  2.755 test accuracy:  32.5%\n"
     ]
    }
   ],
   "source": [
    "nepochs = 50\n",
    "results_path = 'C:/Users/lenovo/Desktop/AI/CW1_1.21.pt'\n",
    "statsrec = np.zeros((4,nepochs))\n",
    "\n",
    "loss_fn = nn.CrossEntropyLoss()\n",
    "optimizer = optim.SGD(net.parameters(), lr=0.001, momentum=0.9)\n",
    "\n",
    "for epoch in range(nepochs):  # loop over the dataset multiple times\n",
    "    correct = 0          # number of examples predicted correctly (for accuracy)\n",
    "    total = 0            # number of examples\n",
    "    running_loss = 0.0   # accumulated loss (for mean loss)\n",
    "    n = 0                # number of minibatches\n",
    "    for data in train_loader:\n",
    "        inputs, labels = data\n",
    "        \n",
    "         # Zero the parameter gradients\n",
    "        optimizer.zero_grad()\n",
    "\n",
    "        # Forward, backward, and update parameters\n",
    "        outputs = net(inputs)\n",
    "        loss = loss_fn(outputs, labels)\n",
    "        loss.backward()\n",
    "        optimizer.step()\n",
    "    \n",
    "        # accumulate loss\n",
    "        running_loss += loss.item()\n",
    "        n += 1\n",
    "        \n",
    "        # accumulate data for accuracy\n",
    "        _, predicted = torch.max(outputs.data, 1)\n",
    "        total += labels.size(0)    # add in the number of labels in this minibatch\n",
    "        correct += (predicted == labels).sum().item()  # add in the number of correct labels\n",
    "    \n",
    "    # collect together statistics for this epoch\n",
    "    ltrn = running_loss/n\n",
    "    atrn = correct/total \n",
    "    ltst, atst = stats(validation_loader, net)\n",
    "    statsrec[:,epoch] = (ltrn, atrn, ltst, atst)\n",
    "    print(f\"epoch: {epoch} training loss: {ltrn: .3f} training accuracy: {atrn: .1%}  test loss: {ltst: .3f} test accuracy: {atst: .1%}\")\n",
    "\n",
    "# save network parameters, losses and accuracy\n",
    "torch.save({\"state_dict\": net.state_dict(), \"stats\": statsrec}, results_path)"
   ]
  },
  {
   "cell_type": "code",
   "execution_count": 28,
   "metadata": {},
   "outputs": [
    {
     "data": {
      "image/png": "[encoded data removed]",
      "text/plain": [
       "<Figure size 432x288 with 2 Axes>"
      ]
     },
     "metadata": {
      "needs_background": "light"
     },
     "output_type": "display_data"
    }
   ],
   "source": [
    "results_path = 'C:/Users/lenovo/Desktop/AI/CW1_1.21.pt'\n",
    "data = torch.load(results_path)\n",
    "statsrec = data[\"stats\"]\n",
    "fig, ax1 = plt.subplots()\n",
    "plt.plot(statsrec[0], 'r', label = 'training loss', )\n",
    "plt.plot(statsrec[2], 'g', label = 'test loss' )\n",
    "plt.legend(loc='lower right')\n",
    "plt.xlabel('epoch')\n",
    "plt.ylabel('loss')\n",
    "plt.title('Training and test loss, and test accuracy')\n",
    "ax2=ax1.twinx()\n",
    "ax2.plot(statsrec[1], 'm', label = 'training accuracy')\n",
    "ax2.plot(statsrec[3], 'b', label = 'test accuracy')\n",
    "ax2.set_ylabel('accuracy')\n",
    "plt.legend(loc='upper right')\n",
    "fig.savefig(\"roc2.jpg\")\n",
    "plt.show()"
   ]
  },
  {
   "cell_type": "markdown",
   "metadata": {},
   "source": [
    "\n",
    "### 1.2.2 Finetuning [6 marks]\n",
    "\n",
    "Now finetune your architecture by implementing at least 2 methods of reducing overfitting and increasing the model's ability to generalise. You are encouraged to further adjust the model after you have done the minimum requirement, to increase your model performance. Please do not use any pre-trained weights from a model trained on ImageNet.\n"
   ]
  },
  {
   "cell_type": "markdown",
   "metadata": {},
   "source": [
    "**Method 1:** Data augmentation of your choice"
   ]
  },
  {
   "cell_type": "markdown",
   "metadata": {},
   "source": [
    "**Method 2:** Adding dropout and/or batch normalisation to the model"
   ]
  },
  {
   "cell_type": "markdown",
   "metadata": {},
   "source": [
    "If you adjust the Model class, redefine it below and instantiate it as ```model_122a```, ```model_122b```, and so on.\n",
    "\n"
   ]
  },
  {
   "cell_type": "code",
   "execution_count": 29,
   "metadata": {},
   "outputs": [],
   "source": [
    "trnsfrm = transforms.Compose([\n",
    "    transforms.ToTensor(),\n",
    "    transforms.ColorJitter(hue=0.2, saturation=0.2, brightness=0.2),\n",
    "    transforms.RandomAffine(degrees=10, translate=(0.1,0.1), scale=(0.9,1.1)),\n",
    "    transforms.RandomHorizontalFlip(p=0.5)\n",
    "])\n",
    "\n",
    "train_set_od = ImageFolder(\n",
    "    root=\"C:/Users/lenovo/Desktop/AI/comp5623m-2022/train_set/train_set\", \n",
    "    transform=trnsfrm\n",
    ")\n",
    "validation_set , train_set = train_test_split(train_set_od, test_size=0.75) \n",
    "\n",
    "train_loader = DataLoader(\n",
    "    train_set,\n",
    "    batch_size = 64,\n",
    "    shuffle = True,\n",
    "    num_workers = 1\n",
    ")\n",
    "validation_loader = DataLoader(\n",
    "    validation_set,\n",
    "    batch_size = 64,\n",
    "    shuffle = True,\n",
    "    num_workers = 1\n",
    ")"
   ]
  },
  {
   "cell_type": "code",
   "execution_count": 30,
   "metadata": {},
   "outputs": [
    {
     "name": "stdout",
     "output_type": "stream",
     "text": [
      "torch.Size([8, 3, 5, 5])\n",
      "torch.Size([8])\n",
      "torch.Size([16, 8, 5, 5])\n",
      "torch.Size([16])\n",
      "torch.Size([64, 2704])\n",
      "torch.Size([64])\n",
      "torch.Size([30, 64])\n",
      "torch.Size([30])\n"
     ]
    }
   ],
   "source": [
    "model_122a = nn.Sequential(\n",
    "    nn.Conv2d(in_channels=3,out_channels=8, kernel_size=5),    # no padding, stride=1, dilation=1 by default\n",
    "    nn.ReLU(),\n",
    "    nn.MaxPool2d(kernel_size=2, stride=2),\n",
    "    nn.Conv2d(in_channels=8,out_channels=16, kernel_size=5),\n",
    "    nn.ReLU(),\n",
    "    nn.MaxPool2d(kernel_size=2, stride=2),\n",
    "    nn.Flatten(),\n",
    "    nn.Linear(16*13*13,64),     # with 32x32 input, the feature map size reduces to 13x13 with 16 channels.\n",
    "    nn.ReLU(),\n",
    "    nn.Linear(64,30)\n",
    ")\n",
    "\n",
    "for param in model_122a.parameters():\n",
    "    print(param.shape)"
   ]
  },
  {
   "cell_type": "code",
   "execution_count": 31,
   "metadata": {},
   "outputs": [
    {
     "name": "stdout",
     "output_type": "stream",
     "text": [
      "epoch: 0 training loss:  3.404 training accuracy:  3.3%  test loss:  3.402 test accuracy:  3.6%\n",
      "epoch: 1 training loss:  3.401 training accuracy:  4.5%  test loss:  3.400 test accuracy:  3.7%\n",
      "epoch: 2 training loss:  3.399 training accuracy:  4.4%  test loss:  3.399 test accuracy:  3.9%\n",
      "epoch: 3 training loss:  3.397 training accuracy:  4.1%  test loss:  3.396 test accuracy:  4.1%\n",
      "epoch: 4 training loss:  3.391 training accuracy:  4.8%  test loss:  3.390 test accuracy:  4.9%\n",
      "epoch: 5 training loss:  3.380 training accuracy:  5.3%  test loss:  3.377 test accuracy:  5.5%\n",
      "epoch: 6 training loss:  3.353 training accuracy:  7.5%  test loss:  3.342 test accuracy:  8.9%\n",
      "epoch: 7 training loss:  3.278 training accuracy:  9.8%  test loss:  3.261 test accuracy:  8.3%\n",
      "epoch: 8 training loss:  3.197 training accuracy:  10.8%  test loss:  3.199 test accuracy:  10.2%\n",
      "epoch: 9 training loss:  3.141 training accuracy:  12.3%  test loss:  3.152 test accuracy:  11.2%\n",
      "epoch: 10 training loss:  3.107 training accuracy:  12.7%  test loss:  3.143 test accuracy:  10.7%\n",
      "epoch: 11 training loss:  3.075 training accuracy:  13.8%  test loss:  3.127 test accuracy:  11.8%\n",
      "epoch: 12 training loss:  3.054 training accuracy:  14.5%  test loss:  3.106 test accuracy:  12.4%\n",
      "epoch: 13 training loss:  3.030 training accuracy:  15.3%  test loss:  3.071 test accuracy:  13.2%\n",
      "epoch: 14 training loss:  3.004 training accuracy:  15.6%  test loss:  3.070 test accuracy:  13.7%\n",
      "epoch: 15 training loss:  2.982 training accuracy:  16.0%  test loss:  3.069 test accuracy:  14.0%\n",
      "epoch: 16 training loss:  2.963 training accuracy:  16.8%  test loss:  3.045 test accuracy:  13.9%\n",
      "epoch: 17 training loss:  2.944 training accuracy:  17.5%  test loss:  3.048 test accuracy:  14.1%\n",
      "epoch: 18 training loss:  2.926 training accuracy:  17.6%  test loss:  3.036 test accuracy:  14.2%\n",
      "epoch: 19 training loss:  2.913 training accuracy:  18.5%  test loss:  3.034 test accuracy:  14.6%\n",
      "epoch: 20 training loss:  2.882 training accuracy:  19.0%  test loss:  2.998 test accuracy:  16.6%\n",
      "epoch: 21 training loss:  2.854 training accuracy:  19.9%  test loss:  2.989 test accuracy:  15.9%\n",
      "epoch: 22 training loss:  2.824 training accuracy:  20.5%  test loss:  2.989 test accuracy:  15.8%\n",
      "epoch: 23 training loss:  2.804 training accuracy:  20.5%  test loss:  2.979 test accuracy:  16.5%\n",
      "epoch: 24 training loss:  2.759 training accuracy:  21.8%  test loss:  2.943 test accuracy:  16.2%\n",
      "epoch: 25 training loss:  2.728 training accuracy:  22.9%  test loss:  2.938 test accuracy:  17.7%\n",
      "epoch: 26 training loss:  2.691 training accuracy:  23.7%  test loss:  2.946 test accuracy:  17.3%\n",
      "epoch: 27 training loss:  2.658 training accuracy:  24.7%  test loss:  2.895 test accuracy:  18.0%\n",
      "epoch: 28 training loss:  2.620 training accuracy:  25.4%  test loss:  2.901 test accuracy:  18.9%\n",
      "epoch: 29 training loss:  2.571 training accuracy:  26.7%  test loss:  2.915 test accuracy:  19.6%\n",
      "epoch: 30 training loss:  2.530 training accuracy:  27.6%  test loss:  2.870 test accuracy:  19.9%\n",
      "epoch: 31 training loss:  2.497 training accuracy:  28.9%  test loss:  2.873 test accuracy:  19.8%\n",
      "epoch: 32 training loss:  2.457 training accuracy:  29.4%  test loss:  2.889 test accuracy:  20.1%\n",
      "epoch: 33 training loss:  2.419 training accuracy:  30.7%  test loss:  2.887 test accuracy:  20.5%\n",
      "epoch: 34 training loss:  2.383 training accuracy:  31.6%  test loss:  2.863 test accuracy:  19.9%\n",
      "epoch: 35 training loss:  2.336 training accuracy:  33.0%  test loss:  2.867 test accuracy:  21.5%\n",
      "epoch: 36 training loss:  2.286 training accuracy:  34.1%  test loss:  2.888 test accuracy:  20.1%\n",
      "epoch: 37 training loss:  2.255 training accuracy:  35.2%  test loss:  2.939 test accuracy:  20.0%\n",
      "epoch: 38 training loss:  2.226 training accuracy:  35.7%  test loss:  2.938 test accuracy:  21.3%\n",
      "epoch: 39 training loss:  2.179 training accuracy:  36.8%  test loss:  2.928 test accuracy:  21.7%\n",
      "epoch: 40 training loss:  2.121 training accuracy:  38.3%  test loss:  2.969 test accuracy:  21.7%\n",
      "epoch: 41 training loss:  2.091 training accuracy:  39.5%  test loss:  3.053 test accuracy:  20.5%\n",
      "epoch: 42 training loss:  2.055 training accuracy:  40.3%  test loss:  3.011 test accuracy:  21.6%\n",
      "epoch: 43 training loss:  1.998 training accuracy:  42.0%  test loss:  2.989 test accuracy:  21.5%\n",
      "epoch: 44 training loss:  1.948 training accuracy:  44.0%  test loss:  3.130 test accuracy:  20.9%\n",
      "epoch: 45 training loss:  1.878 training accuracy:  45.3%  test loss:  3.060 test accuracy:  21.5%\n",
      "epoch: 46 training loss:  1.856 training accuracy:  46.0%  test loss:  3.138 test accuracy:  21.4%\n",
      "epoch: 47 training loss:  1.796 training accuracy:  47.6%  test loss:  3.083 test accuracy:  21.9%\n",
      "epoch: 48 training loss:  1.733 training accuracy:  49.5%  test loss:  3.232 test accuracy:  21.3%\n",
      "epoch: 49 training loss:  1.671 training accuracy:  50.9%  test loss:  3.268 test accuracy:  21.2%\n"
     ]
    }
   ],
   "source": [
    "nepochs = 50\n",
    "results_path = 'C:/Users/lenovo/Desktop/AI/CW1_1.22a.pt'\n",
    "statsrec = np.zeros((4,nepochs))\n",
    "\n",
    "loss_fn = nn.CrossEntropyLoss()\n",
    "optimizer = optim.SGD(model_122a.parameters(), lr=0.001, momentum=0.9)\n",
    "\n",
    "for epoch in range(nepochs):  # loop over the dataset multiple times\n",
    "    correct = 0          # number of examples predicted correctly (for accuracy)\n",
    "    total = 0            # number of examples\n",
    "    running_loss = 0.0   # accumulated loss (for mean loss)\n",
    "    n = 0                # number of minibatches\n",
    "    for data in train_loader:\n",
    "        inputs, labels = data\n",
    "        \n",
    "         # Zero the parameter gradients\n",
    "        optimizer.zero_grad()\n",
    "\n",
    "        # Forward, backward, and update parameters\n",
    "        outputs = model_122a(inputs)\n",
    "        loss = loss_fn(outputs, labels)\n",
    "        loss.backward()\n",
    "        optimizer.step()\n",
    "    \n",
    "        # accumulate loss\n",
    "        running_loss += loss.item()\n",
    "        n += 1\n",
    "        \n",
    "        # accumulate data for accuracy\n",
    "        _, predicted = torch.max(outputs.data, 1)\n",
    "        total += labels.size(0)    # add in the number of labels in this minibatch\n",
    "        correct += (predicted == labels).sum().item()  # add in the number of correct labels\n",
    "    \n",
    "    # collect together statistics for this epoch\n",
    "    ltrn = running_loss/n\n",
    "    atrn = correct/total \n",
    "    ltst, atst = stats(validation_loader, model_122a)\n",
    "    statsrec[:,epoch] = (ltrn, atrn, ltst, atst)\n",
    "    print(f\"epoch: {epoch} training loss: {ltrn: .3f} training accuracy: {atrn: .1%}  test loss: {ltst: .3f} test accuracy: {atst: .1%}\")\n",
    "\n",
    "# save network parameters, losses and accuracy\n",
    "torch.save({\"state_dict\": model_122a.state_dict(), \"stats\": statsrec}, results_path)"
   ]
  },
  {
   "cell_type": "code",
   "execution_count": 32,
   "metadata": {},
   "outputs": [
    {
     "data": {
      "image/png": "[encoded data removed]",
      "text/plain": [
       "<Figure size 432x288 with 2 Axes>"
      ]
     },
     "metadata": {
      "needs_background": "light"
     },
     "output_type": "display_data"
    }
   ],
   "source": [
    "results_path = 'C:/Users/lenovo/Desktop/AI/CW1_1.22a.pt'\n",
    "data = torch.load(results_path)\n",
    "statsrec = data[\"stats\"]\n",
    "fig, ax1 = plt.subplots()\n",
    "plt.plot(statsrec[0], 'r', label = 'training loss', )\n",
    "plt.plot(statsrec[2], 'g', label = 'test loss' )\n",
    "plt.legend(loc='lower right')\n",
    "plt.xlabel('epoch')\n",
    "plt.ylabel('loss')\n",
    "plt.title('Training and test loss, and test accuracy')\n",
    "ax2=ax1.twinx()\n",
    "ax2.plot(statsrec[1], 'm', label = 'training accuracy')\n",
    "ax2.plot(statsrec[3], 'b', label = 'test accuracy')\n",
    "ax2.set_ylabel('accuracy')\n",
    "plt.legend(loc='upper right')\n",
    "fig.savefig(\"roc3.jpg\")\n",
    "plt.show()"
   ]
  },
  {
   "cell_type": "code",
   "execution_count": 33,
   "metadata": {},
   "outputs": [],
   "source": [
    "model_122b = nn.Sequential(\n",
    "    nn.Conv2d(in_channels=3,out_channels=16 ,kernel_size=3,padding = 1),    # no padding, stride=1, dilation=1 by default\n",
    "    nn.BatchNorm2d(16), \n",
    "    nn.Dropout(0.5),\n",
    "    nn.ReLU(),\n",
    "    nn.MaxPool2d(kernel_size=2, stride=2),\n",
    "    nn.Conv2d(in_channels=16,out_channels=64,kernel_size=3,padding = 1),\n",
    "    nn.BatchNorm2d(64),\n",
    "    nn.Dropout(0.5),\n",
    "    nn.ReLU(),\n",
    "    nn.MaxPool2d(kernel_size=2, stride=2),\n",
    "    nn.Conv2d(in_channels=64,out_channels=128,kernel_size=3,padding = 1),\n",
    "    nn.BatchNorm2d(128),\n",
    "    nn.Dropout(0.5),\n",
    "    nn.ReLU(),\n",
    "    nn.MaxPool2d(kernel_size=2, stride=2),\n",
    "    nn.Flatten(),\n",
    "    nn.Linear(128*8*8,64),     # with 32x32 input, the feature map size reduces to 8x8 with 128 channels.\n",
    "    nn.ReLU(),\n",
    "    nn.Linear(64,30)\n",
    ")"
   ]
  },
  {
   "cell_type": "code",
   "execution_count": 35,
   "metadata": {},
   "outputs": [
    {
     "name": "stdout",
     "output_type": "stream",
     "text": [
      "epoch: 0 training loss:  2.606 training accuracy:  25.0%  test loss:  2.669 test accuracy:  23.4%\n",
      "epoch: 1 training loss:  2.519 training accuracy:  27.2%  test loss:  2.608 test accuracy:  25.7%\n",
      "epoch: 2 training loss:  2.442 training accuracy:  29.3%  test loss:  2.545 test accuracy:  26.7%\n",
      "epoch: 3 training loss:  2.369 training accuracy:  30.7%  test loss:  2.577 test accuracy:  26.5%\n",
      "epoch: 4 training loss:  2.310 training accuracy:  32.8%  test loss:  2.517 test accuracy:  28.0%\n",
      "epoch: 5 training loss:  2.251 training accuracy:  34.5%  test loss:  2.541 test accuracy:  27.7%\n",
      "epoch: 6 training loss:  2.191 training accuracy:  36.0%  test loss:  2.489 test accuracy:  28.5%\n",
      "epoch: 7 training loss:  2.157 training accuracy:  37.8%  test loss:  2.457 test accuracy:  29.4%\n",
      "epoch: 8 training loss:  2.089 training accuracy:  39.2%  test loss:  2.458 test accuracy:  30.5%\n",
      "epoch: 9 training loss:  2.044 training accuracy:  40.5%  test loss:  2.457 test accuracy:  28.8%\n",
      "epoch: 10 training loss:  1.985 training accuracy:  41.4%  test loss:  2.465 test accuracy:  30.3%\n",
      "epoch: 11 training loss:  1.955 training accuracy:  42.4%  test loss:  2.443 test accuracy:  31.7%\n",
      "epoch: 12 training loss:  1.888 training accuracy:  44.0%  test loss:  2.442 test accuracy:  31.3%\n",
      "epoch: 13 training loss:  1.858 training accuracy:  45.2%  test loss:  2.457 test accuracy:  30.9%\n",
      "epoch: 14 training loss:  1.825 training accuracy:  46.2%  test loss:  2.489 test accuracy:  30.9%\n",
      "epoch: 15 training loss:  1.794 training accuracy:  47.4%  test loss:  2.470 test accuracy:  32.0%\n",
      "epoch: 16 training loss:  1.747 training accuracy:  47.7%  test loss:  2.460 test accuracy:  31.5%\n",
      "epoch: 17 training loss:  1.708 training accuracy:  48.9%  test loss:  2.490 test accuracy:  32.2%\n",
      "epoch: 18 training loss:  1.663 training accuracy:  50.5%  test loss:  2.465 test accuracy:  32.2%\n",
      "epoch: 19 training loss:  1.602 training accuracy:  52.1%  test loss:  2.520 test accuracy:  31.5%\n",
      "epoch: 20 training loss:  1.597 training accuracy:  51.9%  test loss:  2.505 test accuracy:  32.1%\n",
      "epoch: 21 training loss:  1.574 training accuracy:  52.7%  test loss:  2.500 test accuracy:  32.2%\n",
      "epoch: 22 training loss:  1.514 training accuracy:  54.9%  test loss:  2.547 test accuracy:  32.2%\n",
      "epoch: 23 training loss:  1.487 training accuracy:  55.6%  test loss:  2.525 test accuracy:  33.1%\n",
      "epoch: 24 training loss:  1.453 training accuracy:  56.3%  test loss:  2.627 test accuracy:  30.6%\n",
      "epoch: 25 training loss:  1.444 training accuracy:  55.7%  test loss:  2.521 test accuracy:  33.2%\n",
      "epoch: 26 training loss:  1.365 training accuracy:  58.6%  test loss:  2.605 test accuracy:  32.0%\n",
      "epoch: 27 training loss:  1.340 training accuracy:  59.0%  test loss:  2.699 test accuracy:  31.9%\n",
      "epoch: 28 training loss:  1.329 training accuracy:  59.7%  test loss:  2.697 test accuracy:  30.8%\n",
      "epoch: 29 training loss:  1.268 training accuracy:  60.9%  test loss:  2.672 test accuracy:  32.0%\n",
      "epoch: 30 training loss:  1.242 training accuracy:  62.3%  test loss:  2.663 test accuracy:  33.4%\n",
      "epoch: 31 training loss:  1.237 training accuracy:  62.3%  test loss:  2.715 test accuracy:  31.6%\n",
      "epoch: 32 training loss:  1.193 training accuracy:  63.6%  test loss:  2.739 test accuracy:  31.7%\n",
      "epoch: 33 training loss:  1.154 training accuracy:  64.3%  test loss:  2.767 test accuracy:  31.9%\n",
      "epoch: 34 training loss:  1.121 training accuracy:  64.9%  test loss:  2.750 test accuracy:  32.3%\n",
      "epoch: 35 training loss:  1.096 training accuracy:  65.8%  test loss:  2.760 test accuracy:  32.1%\n",
      "epoch: 36 training loss:  1.052 training accuracy:  67.1%  test loss:  2.838 test accuracy:  31.2%\n",
      "epoch: 37 training loss:  1.029 training accuracy:  67.8%  test loss:  2.843 test accuracy:  32.5%\n",
      "epoch: 38 training loss:  1.007 training accuracy:  68.3%  test loss:  2.833 test accuracy:  32.1%\n",
      "epoch: 39 training loss:  0.974 training accuracy:  69.3%  test loss:  2.844 test accuracy:  32.9%\n",
      "epoch: 40 training loss:  0.946 training accuracy:  70.8%  test loss:  2.895 test accuracy:  31.9%\n",
      "epoch: 41 training loss:  0.938 training accuracy:  70.8%  test loss:  2.937 test accuracy:  31.9%\n",
      "epoch: 42 training loss:  0.917 training accuracy:  71.6%  test loss:  3.012 test accuracy:  31.5%\n",
      "epoch: 43 training loss:  0.904 training accuracy:  71.3%  test loss:  2.981 test accuracy:  32.3%\n",
      "epoch: 44 training loss:  0.850 training accuracy:  72.9%  test loss:  3.074 test accuracy:  33.2%\n",
      "epoch: 45 training loss:  0.848 training accuracy:  72.8%  test loss:  3.122 test accuracy:  31.4%\n",
      "epoch: 46 training loss:  0.817 training accuracy:  74.7%  test loss:  3.019 test accuracy:  31.3%\n",
      "epoch: 47 training loss:  0.757 training accuracy:  75.4%  test loss:  3.118 test accuracy:  31.5%\n",
      "epoch: 48 training loss:  0.760 training accuracy:  76.1%  test loss:  3.132 test accuracy:  32.1%\n",
      "epoch: 49 training loss:  0.742 training accuracy:  76.6%  test loss:  3.146 test accuracy:  30.9%\n"
     ]
    }
   ],
   "source": [
    "nepochs = 50\n",
    "results_path = 'C:/Users/lenovo/Desktop/AI/CW1_1.22b.pt'\n",
    "statsrec = np.zeros((4,nepochs))\n",
    "\n",
    "loss_fn = nn.CrossEntropyLoss()\n",
    "optimizer = optim.SGD(model_122b.parameters(), lr=0.001, momentum=0.9)\n",
    "\n",
    "for epoch in range(nepochs):  # loop over the dataset multiple times\n",
    "    correct = 0          # number of examples predicted correctly (for accuracy)\n",
    "    total = 0            # number of examples\n",
    "    running_loss = 0.0   # accumulated loss (for mean loss)\n",
    "    n = 0                # number of minibatches\n",
    "    for data in train_loader:\n",
    "        inputs, labels = data\n",
    "        \n",
    "         # Zero the parameter gradients\n",
    "        optimizer.zero_grad()\n",
    "\n",
    "        # Forward, backward, and update parameters\n",
    "        outputs = model_122b(inputs)\n",
    "        loss = loss_fn(outputs, labels)\n",
    "        loss.backward()\n",
    "        optimizer.step()\n",
    "    \n",
    "        # accumulate loss\n",
    "        running_loss += loss.item()\n",
    "        n += 1\n",
    "        \n",
    "        # accumulate data for accuracy\n",
    "        _, predicted = torch.max(outputs.data, 1)\n",
    "        total += labels.size(0)    # add in the number of labels in this minibatch\n",
    "        correct += (predicted == labels).sum().item()  # add in the number of correct labels\n",
    "    \n",
    "    # collect together statistics for this epoch\n",
    "    ltrn = running_loss/n\n",
    "    atrn = correct/total \n",
    "    ltst, atst = stats(validation_loader, model_122b)\n",
    "    statsrec[:,epoch] = (ltrn, atrn, ltst, atst)\n",
    "    print(f\"epoch: {epoch} training loss: {ltrn: .3f} training accuracy: {atrn: .1%}  test loss: {ltst: .3f} test accuracy: {atst: .1%}\")\n",
    "\n",
    "# save network parameters, losses and accuracy\n",
    "torch.save({\"state_dict\": model_122b.state_dict(), \"stats\": statsrec}, results_path)"
   ]
  },
  {
   "cell_type": "code",
   "execution_count": 36,
   "metadata": {},
   "outputs": [
    {
     "data": {
      "image/png": "[encoded data removed]",
      "text/plain": [
       "<Figure size 432x288 with 2 Axes>"
      ]
     },
     "metadata": {
      "needs_background": "light"
     },
     "output_type": "display_data"
    }
   ],
   "source": [
    "results_path = 'C:/Users/lenovo/Desktop/AI/CW1_1.22b.pt'\n",
    "data = torch.load(results_path)\n",
    "statsrec = data[\"stats\"]\n",
    "fig, ax1 = plt.subplots()\n",
    "plt.plot(statsrec[0], 'r', label = 'training loss', )\n",
    "plt.plot(statsrec[2], 'g', label = 'test loss' )\n",
    "plt.legend(loc='lower right')\n",
    "plt.xlabel('epoch')\n",
    "plt.ylabel('loss')\n",
    "plt.title('Training and test loss, and test accuracy')\n",
    "ax2=ax1.twinx()\n",
    "ax2.plot(statsrec[1], 'm', label = 'training accuracy')\n",
    "ax2.plot(statsrec[3], 'b', label = 'test accuracy')\n",
    "ax2.set_ylabel('accuracy')\n",
    "plt.legend(loc='upper right')\n",
    "fig.savefig(\"roc4.jpg\")\n",
    "plt.show()"
   ]
  },
  {
   "cell_type": "markdown",
   "metadata": {},
   "source": [
    "\n",
    "### 1.2.3 Training comparison [4 marks]\n",
    "\n",
    "Display, side-by-side or on one single graph, the training and validation loss graphs for the single-batch training (section 1.1.3), on the full training set (1.2.1) and your final fine-tuned model (1.2.2). "
   ]
  },
  {
   "cell_type": "code",
   "execution_count": 37,
   "metadata": {},
   "outputs": [
    {
     "data": {
      "text/plain": [
       "(-0.5, 431.5, 287.5, -0.5)"
      ]
     },
     "execution_count": 37,
     "metadata": {},
     "output_type": "execute_result"
    },
    {
     "data": {
      "image/png": "[encoded data removed]",
      "text/plain": [
       "<Figure size 720x720 with 4 Axes>"
      ]
     },
     "metadata": {
      "needs_background": "light"
     },
     "output_type": "display_data"
    }
   ],
   "source": [
    "im1=plt.imread('roc1.jpg')\n",
    "im2=plt.imread('roc2.jpg')\n",
    "im3=plt.imread('roc3.jpg')\n",
    "im4=plt.imread('roc4.jpg')\n",
    "\n",
    "plt.figure(figsize=(10,10))\n",
    "ax = plt.subplot(2,2,1)\n",
    "plt.imshow(im1)\n",
    "ax.axis('off')\n",
    "\n",
    "ax = plt.subplot(2,2,2)\n",
    "plt.imshow(im2)\n",
    "ax.axis('off')\n",
    "\n",
    "ax = plt.subplot(2,2,3)\n",
    "plt.imshow(im3)\n",
    "ax.axis('off')\n",
    "\n",
    "ax = plt.subplot(2,2,4)\n",
    "plt.imshow(im4)\n",
    "ax.axis('off')"
   ]
  },
  {
   "cell_type": "markdown",
   "metadata": {},
   "source": [
    "Explain what can be seen in the graphs.\n",
    "\n",
    "--> Double click here to respond"
   ]
  },
  {
   "cell_type": "markdown",
   "metadata": {},
   "source": [
    "\n",
    "### 1.2.4 Confusion matrices [7 marks]\n",
    "\n",
    "Use your architecture with best accuracy to generate two confusion matrices, one for the training set and one for the validation set. Remember to use the whole validation and training sets, and to include all your relevant code. Display the confusion matrices in a meaningful way which clearly indicates what percentage of the data is represented in each position.\n",
    "\n"
   ]
  },
  {
   "cell_type": "code",
   "execution_count": 38,
   "metadata": {},
   "outputs": [],
   "source": [
    "def accuracy(cnfm):\n",
    "    return cnfm.trace()/cnfm.sum((0,1))\n",
    "\n",
    "def recalls(cnfm):\n",
    "    return np.diag(cnfm)/cnfm.sum(1)\n",
    "\n",
    "def precisions(cnfm):\n",
    "    return np.diag(cnfm)/cnfm.sum(0)"
   ]
  },
  {
   "cell_type": "code",
   "execution_count": 39,
   "metadata": {},
   "outputs": [
    {
     "name": "stdout",
     "output_type": "stream",
     "text": [
      "Confusion matrix\n",
      "[[232   1   1  14   0   0   3   4  15   0   2   0   9   0   0   1   1   1\n",
      "    6   0   7   2   7  17   0   0   3   2   4   1]\n",
      " [  1 277   5   0   0   3   4   3   2   0   1   4   2   4   3  10   1   0\n",
      "    0   1   1   6   1   1   2  10   1   2   7   1]\n",
      " [  2   1 298   0   2   0   0   1   0   0   3   1   0   3   0   2   0   1\n",
      "    4   1   4   1   0   0   2   2   1   0   4   1]\n",
      " [  3   0   0 291   0   0   0   1  14   0   0   1   4   0   0   0   1   0\n",
      "    2   0   0   0   3   5   0   0   1   0   2   2]\n",
      " [  0   0   7   0 317   0   0   0   1   0   0   0   1   1   0   2   1   0\n",
      "    0   0   0   0   2   0   2   0   0   1   4   1]\n",
      " [  0  13   9   3   3 224   2   4   1   1   0   8   3   1   3   6   6   4\n",
      "    1   0   4   4   9   1   4   1   1   7   9   7]\n",
      " [  4   1   1   8   1   0 249   1  12   0   0   4   4   0   1   2   4   4\n",
      "   11   1   4   2   6   4   2   2   0   3   8   6]\n",
      " [  1   3   6   1   1   1   1 262   0   0   1   1   8   2   2   5   5   2\n",
      "    0   0   6   3   2  11   1   3   4   1  12   3]\n",
      " [  4   1   0   9   0   0   1   0 297   0   0   0   1   0   0   2   1   0\n",
      "    0   1   0   0   2   1   0   1   0   1   4   3]\n",
      " [  0   6   2   0   0   2   0   3   0 272   0   4   3   1   2  10  12   0\n",
      "    0   1   0   2   3   2   2   6   4   4   5   3]\n",
      " [  0   1  24   4   3   3   0   2   1   0 215   2   6  18   0   3   1   2\n",
      "    1   3   3   1   5   3   1   4   1   0   6   0]\n",
      " [  1   5   4   0   0   3   1   0   0   1   0 298   1   1   0   1   1   6\n",
      "    1   0   0   3   0   1   1   2   0   0   3   6]\n",
      " [  2   0   1   1   1   1   0   3   0   2   1   1 292   1   2   1   3   1\n",
      "    4   2   2   2   6   7   1   0   0   1   1   2]\n",
      " [  1   4  14   1   3   1   1   2   3   1   4   2   7 267   0   1   0   1\n",
      "    1   3   4   2   0   3   2   2   2   2   3   2]\n",
      " [  0   6   3   1   0   2   0   0   0   1   0   1   6   2 227   5  17   3\n",
      "    3   0   1   0  12   2   0   3   0   4  10   8]\n",
      " [  1  10   2   2   1   1   0   3   0   4   1   2   1   0   2 265   1   1\n",
      "    2   0   4   4   2   5   5   7   0   1  11   0]\n",
      " [  0   2   0   0   1   1   1   6   0   1   1   1   9   1   0   0 293   2\n",
      "    1   0   1   3   0   1   0   0   0   1   8   5]\n",
      " [  0   0   3   1   0   0   1   0   3   1   0   4   3   1   1   1   0 322\n",
      "    0   0   1   0   2   3   0   1   1   0   2   1]\n",
      " [  2   0   2   1   0   0   2   3   4   0   0   0   2   1   0   0   0   0\n",
      "  299   0   1   0   3   5   0   0   1   1   3   0]\n",
      " [  3  11  16   3   4   4   1   6   2   0   6   1   9  16   3   3   1   2\n",
      "    0 198   0   7   6   0   2   2   4   3   5   4]\n",
      " [ 10   2   2   6   0   0   4  14   5   0   0   0   6   4   1   2   1   0\n",
      "    5   1 258   2   2  10   2   1   1   1   6   1]\n",
      " [  0   2   2   0   4   1   0   3   1   0   1   1   5   2   1   2   3   1\n",
      "    3   1   6 274   1  10   3   1   6   1   9   2]\n",
      " [  0   0   0   0   1   0   1   5   9   0   0   0  13   0   0   1   2   1\n",
      "    3   0   0   0 300   3   0   0   0   0   7   1]\n",
      " [  7   1   1  21   1   0   4   5   5   0   0   0  13   3   1   2   5   0\n",
      "   15   0   4   2   4 215   0   0   1   2   4   4]\n",
      " [  0   2   1   1   0   0   0   1   0   0   0   0   0   2   1   3   0   1\n",
      "    0   0   2   3   0   0 320   5   0   0   1   0]\n",
      " [  0  10   6   3   1   2   1   8   4   3   0   3   2   4   1  10   0   0\n",
      "    1   0   1   3   0   7  23 244   3   1   5   1]\n",
      " [  3   1   2   5   0   0   1   7   4   0   1   1   3   0   1   1   0   0\n",
      "   11   0   0   5   2   8   0   3 277   0   2   6]\n",
      " [  1   2   1   1   0   1   1   5   1   0   0   1   7   0   0   3  16   1\n",
      "    3   2   0   4   5   3   0   2   1 260  13   3]\n",
      " [  0   1   1   1   1   0   2   1   5   0   0   0   1   3   0   0   0   0\n",
      "    1   0   3   0   1   0   1   0   1   1 319   0]\n",
      " [  2   3   0   1   4   3   0   3   9   0   4   0   7   1   0   0  10   4\n",
      "    3   0   2   4   9   1   0   1   0   3  15 231]]\n",
      "Accuracy: 79.9%\n",
      "Class 0 : Precision 82.9%  Recall 69.7%\n",
      "Class 1 : Precision 75.7%  Recall 78.5%\n",
      "Class 2 : Precision 72.0%  Recall 89.2%\n",
      "Class 3 : Precision 76.8%  Recall 88.2%\n",
      "Class 4 : Precision 90.8%  Recall 93.2%\n",
      "Class 5 : Precision 88.5%  Recall 66.1%\n",
      "Class 6 : Precision 88.6%  Recall 72.2%\n",
      "Class 7 : Precision 73.6%  Recall 75.3%\n",
      "Class 8 : Precision 74.6%  Recall 90.3%\n",
      "Class 9 : Precision 94.8%  Recall 77.9%\n",
      "Class 10 : Precision 89.2%  Recall 68.7%\n",
      "Class 11 : Precision 87.4%  Recall 87.6%\n",
      "Class 12 : Precision 68.2%  Recall 85.6%\n",
      "Class 13 : Precision 78.8%  Recall 78.8%\n",
      "Class 14 : Precision 90.1%  Recall 71.6%\n",
      "Class 15 : Precision 77.0%  Recall 78.4%\n",
      "Class 16 : Precision 75.9%  Recall 86.4%\n",
      "Class 17 : Precision 89.4%  Recall 91.5%\n",
      "Class 18 : Precision 78.5%  Recall 90.6%\n",
      "Class 19 : Precision 92.1%  Recall 61.5%\n",
      "Class 20 : Precision 80.9%  Recall 74.4%\n",
      "Class 21 : Precision 80.8%  Recall 79.2%\n",
      "Class 22 : Precision 75.9%  Recall 86.5%\n",
      "Class 23 : Precision 65.3%  Recall 67.2%\n",
      "Class 24 : Precision 85.1%  Recall 93.3%\n",
      "Class 25 : Precision 80.5%  Recall 70.3%\n",
      "Class 26 : Precision 88.2%  Recall 80.5%\n",
      "Class 27 : Precision 85.8%  Recall 77.2%\n",
      "Class 28 : Precision 64.8%  Recall 93.0%\n",
      "Class 29 : Precision 75.7%  Recall 72.2%\n"
     ]
    },
    {
     "data": {
      "image/png": "[encoded data removed]",
      "text/plain": [
       "<Figure size 432x288 with 1 Axes>"
      ]
     },
     "metadata": {
      "needs_background": "light"
     },
     "output_type": "display_data"
    }
   ],
   "source": [
    "classes=np.arange(30)\n",
    "#classes = [\"baboon\", \"banana\", \"bee\", \"bison\", \"butterfly\", \"candle\", \"cardigan\", \"chihuahua\", \"elephant\", \"espresso\",\"fly\",\"goldfish\",\"goose\",\"grasshopper\",\"hourglass\",\"icecream\",\"ipod\",\"jellyfish\",\"koala\",\"ladybug\",\"lion\",\"mushroom\",\"penguin\",\"pig\",\"pizza\",\"pretzel\",\"redpanda\",\"refrigerator\",\"sombrero\",\"umbrella\"]\n",
    "d = torch.load('C:/Users/lenovo/Desktop/AI/CW1_1.22b.pt')\n",
    "# now load the parameter state into the current model (make sure this is the right model).\n",
    "model_122b.load_state_dict(d[\"state_dict\"])\n",
    "\n",
    "# initialise confusion matrix\n",
    "nclasses = classes.shape[0]\n",
    "cnfm = np.zeros((nclasses,nclasses),dtype=int)\n",
    "\n",
    "# work without gradient computation since we are testing (i.e. no optimisation)\n",
    "with torch.no_grad():\n",
    "    for data in train_loader:\n",
    "        images, labels = data\n",
    "        outputs = model_122b(images)\n",
    "        \n",
    "        # find the class with the highest output.\n",
    "        # note that the outputs are confidence values since we didn't need to apply softmax in our network\n",
    "        # (nn.crossentropyloss takes raw condifence values and does its own softmax)   \n",
    "        _, predicted = torch.max(outputs, 1)    \n",
    "       \n",
    "        \n",
    "        # accumulate into confusion matrix\n",
    "        for i in range(labels.size(0)):\n",
    "            cnfm[labels[i].item(),predicted[i].item()] += 1\n",
    "              \n",
    "print(\"Confusion matrix\")\n",
    "print(cnfm)\n",
    "\n",
    "# show confusion matrix as a grey-level image\n",
    "plt.imshow(cnfm, cmap='gray')\n",
    "\n",
    "# show per-class recall and precision\n",
    "print(f\"Accuracy: {accuracy(cnfm) :.1%}\")\n",
    "r = recalls(cnfm)\n",
    "p = precisions(cnfm)\n",
    "for i in range(nclasses):\n",
    "    print(f\"Class {classes[i]} : Precision {p[i] :.1%}  Recall {r[i] :.1%}\")\n"
   ]
  },
  {
   "cell_type": "markdown",
   "metadata": {},
   "source": [
    "What conclusions can be drawn from the confusion matrices?"
   ]
  },
  {
   "cell_type": "markdown",
   "metadata": {},
   "source": [
    "---> Double click to respond here"
   ]
  },
  {
   "cell_type": "markdown",
   "metadata": {},
   "source": [
    "\n",
    "\n",
    "## 1.3 Testing on test data [18 marks]\n",
    "\n",
    "### 1.3.1 Dataset and generating predictions [6 marks]\n",
    "\n",
    "Create a PyTorch ```Dataset``` for the unlabeled test data in the test_set folder of the Kaggle competition and generate predictions using your final model. \n"
   ]
  },
  {
   "cell_type": "code",
   "execution_count": 40,
   "metadata": {},
   "outputs": [],
   "source": [
    "import pandas as pd"
   ]
  },
  {
   "cell_type": "code",
   "execution_count": 106,
   "metadata": {},
   "outputs": [],
   "source": [
    "class ImageLoaderI(Dataset):\n",
    "    def __init__(self, df, transform=None):\n",
    "        self.df = df\n",
    "        self.transform = transform\n",
    "\n",
    "    def __len__(self):\n",
    "        return len(self.df)\n",
    "\n",
    "    def __getitem__(self, index):\n",
    "        #Load image from path and get label\n",
    "        x = Image.open(self.df['path'][index])\n",
    "        try:\n",
    "            x = x.convert('RGB')  # To deal with some grayscale images in the data\n",
    "        except:\n",
    "            pass\n",
    "        y = torch.tensor(int(self.df['class'][index]))\n",
    "\n",
    "        #path1 = self.df['path'][index]\n",
    "\n",
    "        if self.transform:\n",
    "            x = self.transform(x)\n",
    "\n",
    "        return x, y"
   ]
  },
  {
   "cell_type": "code",
   "execution_count": 107,
   "metadata": {},
   "outputs": [
    {
     "name": "stdout",
     "output_type": "stream",
     "text": [
      "Found 1500 images.\n"
     ]
    }
   ],
   "source": [
    "# load images to test_loader\n",
    "paths_test, classes_test = [], []\n",
    "root_dir = \"C:/Users/lenovo/Desktop/AI/comp5623m-2022/test_set/test_set\"\n",
    "for entry in os.scandir(root_dir):\n",
    "    if (entry.is_file()):\n",
    "        paths_test.append(entry.path)\n",
    "        classes_test.append(i)\n",
    "data = {\n",
    "    'path': paths_test,\n",
    "    'class': classes_test\n",
    "}\n",
    "data_df = pd.DataFrame(data, columns=['path', 'class'])\n",
    "data_df = data_df.sample(frac=1).reset_index(drop=True) #Shuffles the data\n",
    "\n",
    "# See what the dataframe now contains\n",
    "print(\"Found\", len(data_df), \"images.\")"
   ]
  },
  {
   "cell_type": "code",
   "execution_count": 108,
   "metadata": {},
   "outputs": [
    {
     "data": {
      "text/html": [
       "<div>\n",
       "<style scoped>\n",
       "    .dataframe tbody tr th:only-of-type {\n",
       "        vertical-align: middle;\n",
       "    }\n",
       "\n",
       "    .dataframe tbody tr th {\n",
       "        vertical-align: top;\n",
       "    }\n",
       "\n",
       "    .dataframe thead th {\n",
       "        text-align: right;\n",
       "    }\n",
       "</style>\n",
       "<table border=\"1\" class=\"dataframe\">\n",
       "  <thead>\n",
       "    <tr style=\"text-align: right;\">\n",
       "      <th></th>\n",
       "      <th>path</th>\n",
       "      <th>class</th>\n",
       "    </tr>\n",
       "  </thead>\n",
       "  <tbody>\n",
       "    <tr>\n",
       "      <th>0</th>\n",
       "      <td>C:/Users/lenovo/Desktop/AI/comp5623m-2022/test...</td>\n",
       "      <td>29</td>\n",
       "    </tr>\n",
       "    <tr>\n",
       "      <th>1</th>\n",
       "      <td>C:/Users/lenovo/Desktop/AI/comp5623m-2022/test...</td>\n",
       "      <td>29</td>\n",
       "    </tr>\n",
       "    <tr>\n",
       "      <th>2</th>\n",
       "      <td>C:/Users/lenovo/Desktop/AI/comp5623m-2022/test...</td>\n",
       "      <td>29</td>\n",
       "    </tr>\n",
       "    <tr>\n",
       "      <th>3</th>\n",
       "      <td>C:/Users/lenovo/Desktop/AI/comp5623m-2022/test...</td>\n",
       "      <td>29</td>\n",
       "    </tr>\n",
       "    <tr>\n",
       "      <th>4</th>\n",
       "      <td>C:/Users/lenovo/Desktop/AI/comp5623m-2022/test...</td>\n",
       "      <td>29</td>\n",
       "    </tr>\n",
       "    <tr>\n",
       "      <th>...</th>\n",
       "      <td>...</td>\n",
       "      <td>...</td>\n",
       "    </tr>\n",
       "    <tr>\n",
       "      <th>1495</th>\n",
       "      <td>C:/Users/lenovo/Desktop/AI/comp5623m-2022/test...</td>\n",
       "      <td>29</td>\n",
       "    </tr>\n",
       "    <tr>\n",
       "      <th>1496</th>\n",
       "      <td>C:/Users/lenovo/Desktop/AI/comp5623m-2022/test...</td>\n",
       "      <td>29</td>\n",
       "    </tr>\n",
       "    <tr>\n",
       "      <th>1497</th>\n",
       "      <td>C:/Users/lenovo/Desktop/AI/comp5623m-2022/test...</td>\n",
       "      <td>29</td>\n",
       "    </tr>\n",
       "    <tr>\n",
       "      <th>1498</th>\n",
       "      <td>C:/Users/lenovo/Desktop/AI/comp5623m-2022/test...</td>\n",
       "      <td>29</td>\n",
       "    </tr>\n",
       "    <tr>\n",
       "      <th>1499</th>\n",
       "      <td>C:/Users/lenovo/Desktop/AI/comp5623m-2022/test...</td>\n",
       "      <td>29</td>\n",
       "    </tr>\n",
       "  </tbody>\n",
       "</table>\n",
       "<p>1500 rows × 2 columns</p>\n",
       "</div>"
      ],
      "text/plain": [
       "                                                   path  class\n",
       "0     C:/Users/lenovo/Desktop/AI/comp5623m-2022/test...     29\n",
       "1     C:/Users/lenovo/Desktop/AI/comp5623m-2022/test...     29\n",
       "2     C:/Users/lenovo/Desktop/AI/comp5623m-2022/test...     29\n",
       "3     C:/Users/lenovo/Desktop/AI/comp5623m-2022/test...     29\n",
       "4     C:/Users/lenovo/Desktop/AI/comp5623m-2022/test...     29\n",
       "...                                                 ...    ...\n",
       "1495  C:/Users/lenovo/Desktop/AI/comp5623m-2022/test...     29\n",
       "1496  C:/Users/lenovo/Desktop/AI/comp5623m-2022/test...     29\n",
       "1497  C:/Users/lenovo/Desktop/AI/comp5623m-2022/test...     29\n",
       "1498  C:/Users/lenovo/Desktop/AI/comp5623m-2022/test...     29\n",
       "1499  C:/Users/lenovo/Desktop/AI/comp5623m-2022/test...     29\n",
       "\n",
       "[1500 rows x 2 columns]"
      ]
     },
     "execution_count": 108,
     "metadata": {},
     "output_type": "execute_result"
    }
   ],
   "source": [
    "data_df"
   ]
  },
  {
   "cell_type": "code",
   "execution_count": 132,
   "metadata": {},
   "outputs": [],
   "source": [
    "import torch\n",
    "\n",
    "dataset_test = ImageLoaderI(\n",
    "    df=data_df,\n",
    "    transform=transforms.ToTensor(),\n",
    ")\n",
    "test_loader = torch.utils.data.DataLoader(\n",
    "    dataset_test,\n",
    "    batch_size=64,\n",
    "    shuffle=True,\n",
    "    num_workers=1\n",
    ")"
   ]
  },
  {
   "cell_type": "code",
   "execution_count": null,
   "metadata": {},
   "outputs": [],
   "source": [
    "print(\"len(test_loader)\", len(test_loader))\n",
    "print(\"len(test_set)\",len(dataset_test))"
   ]
  },
  {
   "cell_type": "code",
   "execution_count": null,
   "metadata": {},
   "outputs": [],
   "source": [
    "def predict_test(net,loader):\n",
    "    net.eval()\n",
    "    pre = []\n",
    "    paths = []\n",
    "    with torch.no_grad():\n",
    "        for data in loader:\n",
    "            img,_, path = data\n",
    "            outputs = net(img)\n",
    "\n",
    "            _,predicted = torch.max(outputs.data,1)\n",
    "            pre.append(predicted)\n",
    "            paths.append(path)\n",
    "    return pre,paths\n",
    "\n",
    "pre,pathpath = predict_test(model_122b,test_loader)"
   ]
  },
  {
   "cell_type": "code",
   "execution_count": null,
   "metadata": {},
   "outputs": [],
   "source": [
    "predict_class = []\n",
    "predict_path = []\n",
    "s = 0\n",
    "for k in range(23):\n",
    "    for h in range(64):\n",
    "        predict_class.append(pre[k][h].cpu().numpy())\n",
    "        predict_path.append(pathpath[k][h])\n",
    "for h in range(28):\n",
    "    predict_class.append(pre[23][h].cpu().numpy())\n",
    "    predict_path.append(pathpath[23][h])\n",
    "predict_class = list(predict_class)\n",
    "\n",
    "# only leave number in predict_class[]\n",
    "for i in range(len(predict_class)):\n",
    "    predict_class[i] = int(predict_class[i])\n",
    "\n",
    "# only leave file name in predict_path1[], without path\n",
    "predict_path1 = []\n",
    "for i in range(len(predict_path)):\n",
    "    predict_path1.append(predict_path[i][38:]) # predict_path contains paths and file name. [38:] means just get name of images\n",
    "\n",
    "# put file name and corresponding prediction into the same row, preparing for writing csv\n",
    "final_outputs = [[] for i in range(1500)]\n",
    "for i in range(1500):\n",
    "    final_outputs[i].append(predict_path1[i])\n",
    "    final_outputs[i].append(predict_class[i])"
   ]
  },
  {
   "cell_type": "markdown",
   "metadata": {},
   "source": [
    "\n",
    "### 1.3.2 CSV file and test set accuracy [12 marks]\n",
    "\n",
    "Save all test predictions to a CSV file and submit it to the private class Kaggle competition. **Please save your test CSV file submissions using your student username (the one with letters, ie., ``sc15jb``, not the ID with only numbers)**, for example, `sc15jb.csv`. That will help us to identify your submissions.\n",
    "\n",
    "The CSV file must contain only two columns: ‘Id’ and ‘Category’ (predicted class ID) as shown below:\n",
    "\n",
    "```txt\n",
    "Id,Category\n",
    "28d0f5e9_373c.JPEG,2\n",
    "bbe4895f_40bf.JPEG,18\n",
    "```\n",
    "\n",
    "The ‘Id’ column should include the name of the image. It is important to keep the same name as the one on the test set. Do not include any path, just the name of file (with extension). Your csv file must contain 1501 rows, one for each image on test set and 1 row for the headers.\n",
    "\n",
    "> You may submit multiple times. We will use your personal top entry for allocating marks for this [10 marks]. The class leaderboard will not affect marking (brownie points!).\n",
    "\n"
   ]
  },
  {
   "cell_type": "code",
   "execution_count": null,
   "metadata": {},
   "outputs": [],
   "source": [
    "# Save all test predictions and files name into csv file\n",
    "import csv\n",
    "results_file = open('ml20j22l.csv', 'w', newline='')\n",
    "csv_writer = csv.writer(results_file)\n",
    "for row in final_outputs:\n",
    "    csv_writer.writerow(row)\n",
    "results_file.close()"
   ]
  },
  {
   "cell_type": "markdown",
   "metadata": {
    "id": "C_sR8Gc04CJ2"
   },
   "source": [
    "\n",
    "\n",
    "## QUESTION 2 [40 marks]\n",
    "\n",
    "\n",
    "\n",
    "In this question, you will visualize the filters and feature maps of a fully-trained CNN (AlexNet) on the full ImageNet 2012 dataset.\n",
    "\n",
    "> Please do not alter the name of the function or the number and type of its arguments and return values, otherwise the automatic grading function will not work correctly. You are welcome to import other modules (though the simplest solution only requires the ones below).\n"
   ]
  },
  {
   "cell_type": "markdown",
   "metadata": {
    "id": "r-HIUgQ-HK8Y"
   },
   "source": [
    "### **Overview:**\n",
    "*   **2.1.1** Extract filters from model: ``fetch_filters(layer_idx, model)``\n",
    "*   **2.2.1** Load test image\n",
    "*   **2.2.2** Extract feature maps for given test image: ``fetch_feature_maps(image, model)``\n",
    "*   **2.2.3** Display feature maps\n",
    "*   **2.3.1** Generate Grad-CAM heatmaps: ``generate_heatmap(output, class_id, model, image)``\n",
    "*   **2.3.2** Display heatmaps: add code to cell\n",
    "*   **2.3.3** Generate heatmaps for failure analysis\n"
   ]
  },
  {
   "cell_type": "markdown",
   "metadata": {
    "id": "-gYdjXng4CJ5"
   },
   "source": [
    "### Loading a pre-trained model\n",
    "\n",
    "Run the cell below to load an AlexNet model with pre-trained weights."
   ]
  },
  {
   "cell_type": "code",
   "execution_count": 110,
   "metadata": {
    "id": "ik9dzD4S4CJ6"
   },
   "outputs": [
    {
     "name": "stderr",
     "output_type": "stream",
     "text": [
      "Downloading: \"https://github.com/pytorch/vision/archive/v0.6.0.zip\" to C:\\Users\\lenovo/.cache\\torch\\hub\\v0.6.0.zip\n",
      "Downloading: \"https://download.pytorch.org/models/alexnet-owt-7be5be79.pth\" to C:\\Users\\lenovo/.cache\\torch\\hub\\checkpoints\\alexnet-owt-7be5be79.pth\n"
     ]
    },
    {
     "data": {
      "application/vnd.jupyter.widget-view+json": {
       "model_id": "a01795ed46104508bc7f8c885cacd918",
       "version_major": 2,
       "version_minor": 0
      },
      "text/plain": [
       "  0%|          | 0.00/233M [00:00<?, ?B/s]"
      ]
     },
     "metadata": {},
     "output_type": "display_data"
    },
    {
     "data": {
      "text/plain": [
       "AlexNet(\n",
       "  (features): Sequential(\n",
       "    (0): Conv2d(3, 64, kernel_size=(11, 11), stride=(4, 4), padding=(2, 2))\n",
       "    (1): ReLU(inplace=True)\n",
       "    (2): MaxPool2d(kernel_size=3, stride=2, padding=0, dilation=1, ceil_mode=False)\n",
       "    (3): Conv2d(64, 192, kernel_size=(5, 5), stride=(1, 1), padding=(2, 2))\n",
       "    (4): ReLU(inplace=True)\n",
       "    (5): MaxPool2d(kernel_size=3, stride=2, padding=0, dilation=1, ceil_mode=False)\n",
       "    (6): Conv2d(192, 384, kernel_size=(3, 3), stride=(1, 1), padding=(1, 1))\n",
       "    (7): ReLU(inplace=True)\n",
       "    (8): Conv2d(384, 256, kernel_size=(3, 3), stride=(1, 1), padding=(1, 1))\n",
       "    (9): ReLU(inplace=True)\n",
       "    (10): Conv2d(256, 256, kernel_size=(3, 3), stride=(1, 1), padding=(1, 1))\n",
       "    (11): ReLU(inplace=True)\n",
       "    (12): MaxPool2d(kernel_size=3, stride=2, padding=0, dilation=1, ceil_mode=False)\n",
       "  )\n",
       "  (avgpool): AdaptiveAvgPool2d(output_size=(6, 6))\n",
       "  (classifier): Sequential(\n",
       "    (0): Dropout(p=0.5, inplace=False)\n",
       "    (1): Linear(in_features=9216, out_features=4096, bias=True)\n",
       "    (2): ReLU(inplace=True)\n",
       "    (3): Dropout(p=0.5, inplace=False)\n",
       "    (4): Linear(in_features=4096, out_features=4096, bias=True)\n",
       "    (5): ReLU(inplace=True)\n",
       "    (6): Linear(in_features=4096, out_features=1000, bias=True)\n",
       "  )\n",
       ")"
      ]
     },
     "execution_count": 110,
     "metadata": {},
     "output_type": "execute_result"
    }
   ],
   "source": [
    "model = torch.hub.load('pytorch/vision:v0.6.0', 'alexnet', pretrained=True)\n",
    "model.eval()"
   ]
  },
  {
   "cell_type": "code",
   "execution_count": 111,
   "metadata": {},
   "outputs": [
    {
     "data": {
      "text/plain": [
       "Sequential(\n",
       "  (0): Conv2d(3, 64, kernel_size=(11, 11), stride=(4, 4), padding=(2, 2))\n",
       "  (1): ReLU(inplace=True)\n",
       "  (2): MaxPool2d(kernel_size=3, stride=2, padding=0, dilation=1, ceil_mode=False)\n",
       "  (3): Conv2d(64, 192, kernel_size=(5, 5), stride=(1, 1), padding=(2, 2))\n",
       "  (4): ReLU(inplace=True)\n",
       "  (5): MaxPool2d(kernel_size=3, stride=2, padding=0, dilation=1, ceil_mode=False)\n",
       "  (6): Conv2d(192, 384, kernel_size=(3, 3), stride=(1, 1), padding=(1, 1))\n",
       "  (7): ReLU(inplace=True)\n",
       "  (8): Conv2d(384, 256, kernel_size=(3, 3), stride=(1, 1), padding=(1, 1))\n",
       "  (9): ReLU(inplace=True)\n",
       "  (10): Conv2d(256, 256, kernel_size=(3, 3), stride=(1, 1), padding=(1, 1))\n",
       "  (11): ReLU(inplace=True)\n",
       "  (12): MaxPool2d(kernel_size=3, stride=2, padding=0, dilation=1, ceil_mode=False)\n",
       ")"
      ]
     },
     "execution_count": 111,
     "metadata": {},
     "output_type": "execute_result"
    }
   ],
   "source": [
    "model.features"
   ]
  },
  {
   "cell_type": "code",
   "execution_count": 112,
   "metadata": {},
   "outputs": [
    {
     "data": {
      "text/plain": [
       "Conv2d(3, 64, kernel_size=(11, 11), stride=(4, 4), padding=(2, 2))"
      ]
     },
     "execution_count": 112,
     "metadata": {},
     "output_type": "execute_result"
    }
   ],
   "source": [
    "model.features[0]"
   ]
  },
  {
   "cell_type": "code",
   "execution_count": 113,
   "metadata": {},
   "outputs": [
    {
     "data": {
      "text/plain": [
       "torch.Size([64, 3, 11, 11])"
      ]
     },
     "execution_count": 113,
     "metadata": {},
     "output_type": "execute_result"
    }
   ],
   "source": [
    "model.features[0].weight.shape"
   ]
  },
  {
   "cell_type": "markdown",
   "metadata": {
    "id": "GXzlLbstCE7f"
   },
   "source": [
    "\n",
    "## 2.1 Extract and visualize the filters [6 marks]\n",
    "\n",
    "In this section you will extract and visualize the filters from the pre-trained AlexNet."
   ]
  },
  {
   "cell_type": "markdown",
   "metadata": {
    "id": "_vOrqr2J4CJ7"
   },
   "source": [
    "### 2.1.1 Extract filters [4 marks]\n",
    "\n",
    "Complete the following function ```fetch_filters``` to return all the filters from the convolutional layers at the given index in ```model.features``` (see printed model above for reference). \n",
    "\n",
    "\n",
    "\n",
    "\n",
    "\n",
    "> We will not test the behaviour of your function using invalid indices.\n",
    "\n"
   ]
  },
  {
   "cell_type": "code",
   "execution_count": 114,
   "metadata": {
    "id": "sdbDXckn4CJ8"
   },
   "outputs": [],
   "source": [
    "def fetch_filters(layer_idx, model):\n",
    "    \"\"\" \n",
    "        Args:\n",
    "            layer_idx (int): the index of model.features specifying which conv layer\n",
    "            model (AlexNet): PyTorch AlexNet object\n",
    "        Return:\n",
    "            filters (Tensor):      \n",
    "    \"\"\"\n",
    "    filters = model.features[layer_idx].weight.data\n",
    "    return filters"
   ]
  },
  {
   "cell_type": "code",
   "execution_count": 115,
   "metadata": {
    "id": "HNxPI5y-4CJ8"
   },
   "outputs": [],
   "source": [
    "# all the indices of the conv layers\n",
    "conv_layer_idx = [0, 3, 6, 8, 10]\n",
    "\n",
    "filters = []\n",
    "\n",
    "for layer_idx in conv_layer_idx:\n",
    "    filters.append(fetch_filters(layer_idx, model))"
   ]
  },
  {
   "cell_type": "markdown",
   "metadata": {
    "id": "PWSpX94c4CKD"
   },
   "source": [
    "For your testing purposes, the following code blocks test the dimensions of the function output."
   ]
  },
  {
   "cell_type": "code",
   "execution_count": 116,
   "metadata": {
    "id": "TXeQtKkK4CKE"
   },
   "outputs": [
    {
     "data": {
      "text/plain": [
       "torch.Size([64, 3, 11, 11])"
      ]
     },
     "execution_count": 116,
     "metadata": {},
     "output_type": "execute_result"
    }
   ],
   "source": [
    "filters[0].shape"
   ]
  },
  {
   "cell_type": "code",
   "execution_count": 117,
   "metadata": {
    "id": "QZnC8Eth4CKF"
   },
   "outputs": [],
   "source": [
    "assert list(filters[0].shape) == [64, 3, 11, 11]"
   ]
  },
  {
   "cell_type": "markdown",
   "metadata": {
    "id": "ECx7Ktsg4CKG"
   },
   "source": [
    "\n",
    "\n",
    "### 2.1.2 Display filters [2 marks]\n",
    "\n",
    "The following code will visualize some of the filters from each layer. Play around with viewing filters at different depths into the network. Note that ```filters[0]``` could be viewed in colour if you prefer, whereas the subsequent layers must be viewed one channel at a time in grayscale. \n",
    "\n"
   ]
  },
  {
   "cell_type": "code",
   "execution_count": 118,
   "metadata": {
    "id": "7K6N3ThU4CKG",
    "scrolled": false
   },
   "outputs": [
    {
     "data": {
      "image/png": "[encoded data removed]",
      "text/plain": [
       "<Figure size 432x288 with 16 Axes>"
      ]
     },
     "metadata": {
      "needs_background": "light"
     },
     "output_type": "display_data"
    }
   ],
   "source": [
    "# limit how many filters to show\n",
    "to_show = 16\n",
    "\n",
    "# compute the dimensions of the plot\n",
    "plt_dim = int(math.sqrt(to_show))\n",
    "\n",
    "# plot the first channel of each filter in a grid\n",
    "for i, filt in enumerate(filters[0].numpy()[:to_show]):\n",
    "    plt.subplot(plt_dim, plt_dim, i+1)\n",
    "    plt.imshow(filt[0], cmap=\"gray\")\n",
    "    plt.axis('off')\n",
    "plt.show()"
   ]
  },
  {
   "cell_type": "markdown",
   "metadata": {
    "id": "yCJF9IIF4CKI"
   },
   "source": [
    "\n",
    "\n",
    "## 2.2 Extract and visualize feature maps [10 marks]\n",
    "\n",
    "In this section, you will pass a test image through the AlexNet and extract and visualize the resulting convolutional layer feature maps.\n",
    "\n",
    "Complete the following code cell to load the test image ```man_bike.JPEG```.\n",
    "\n"
   ]
  },
  {
   "cell_type": "markdown",
   "metadata": {
    "id": "bVfEgbC4I_dE"
   },
   "source": [
    "### 2.2.1 Load test image [1 mark]\n"
   ]
  },
  {
   "cell_type": "code",
   "execution_count": 119,
   "metadata": {
    "id": "xypfUN7y4CKI"
   },
   "outputs": [],
   "source": [
    "im = Image.open('C:/Users/lenovo/Desktop/AI/man_bike.JPEG')"
   ]
  },
  {
   "cell_type": "markdown",
   "metadata": {
    "id": "aF2t9uOk4CKJ"
   },
   "source": [
    "Run the code cell below to apply the image transformation expected by the model."
   ]
  },
  {
   "cell_type": "code",
   "execution_count": 120,
   "metadata": {
    "id": "Jt0tJQsM4CKO"
   },
   "outputs": [],
   "source": [
    "# ImageNet normalisation values, to apply to the image transform\n",
    "norm_mean = [0.485, 0.456, 0.406]\n",
    "norm_std = [0.229, 0.224, 0.225]\n",
    "\n",
    "data_transform = transforms.Compose([\n",
    "        transforms.Resize(256),\n",
    "        transforms.CenterCrop(256),\n",
    "        transforms.ToTensor(),\n",
    "        transforms.Normalize(norm_mean, norm_std),\n",
    "    ])\n",
    "\n",
    "im = data_transform(im)"
   ]
  },
  {
   "cell_type": "markdown",
   "metadata": {
    "id": "5VQKNo384CKP"
   },
   "source": [
    "\n",
    "### 2.2.2 Extract feature maps [5 marks]\n",
    "\n",
    "Complete the function below to pass the test image through a single forward pass of the network. We are interested in the outputs of the max pool layers (outputs of conv layers at model.features indices 0, 3, and 10) for best visualization. Note that the input should pass through *every layer* of the model."
   ]
  },
  {
   "cell_type": "code",
   "execution_count": 121,
   "metadata": {
    "id": "kmqQ_mJ54CKP"
   },
   "outputs": [],
   "source": [
    "def fetch_feature_maps(image, model):\n",
    "    \"\"\"\n",
    "    Args:\n",
    "        image (Tensor): a single input image with transform applied\n",
    "        model (AlexNet): PyTorch AlexNet object\n",
    "        \n",
    "    Return:\n",
    "        feature_maps (Tensor): all the feature maps from conv layers \n",
    "                    at indices 0, 3, and 10 (outputs of the MaxPool layers)\n",
    "    \"\"\"\n",
    "\n",
    "    feature_maps=[]\n",
    " \n",
    "    img_feature1=model.features[2](model.features[1](model.features[0](image)))\n",
    "    feature_maps.append(img_feature1)\n",
    "    \n",
    "    img_feature2=model.features[5](model.features[4](model.features[3](img_feature1)))\n",
    "    feature_maps.append(img_feature2)\n",
    "    \n",
    "    img_feature3=model.features[11](model.features[10](model.features[9](model.features[8](model.features[7](model.features[6](img_feature2))))))\n",
    "    feature_maps.append(img_feature3)\n",
    "    \n",
    "    \n",
    "    return feature_maps\n",
    "    "
   ]
  },
  {
   "cell_type": "code",
   "execution_count": 122,
   "metadata": {
    "id": "ORkRxCVo4CKQ"
   },
   "outputs": [],
   "source": [
    "feature_maps = fetch_feature_maps(im.unsqueeze(0), model)"
   ]
  },
  {
   "cell_type": "code",
   "execution_count": 123,
   "metadata": {},
   "outputs": [
    {
     "data": {
      "text/plain": [
       "[1, 192, 15, 15]"
      ]
     },
     "execution_count": 123,
     "metadata": {},
     "output_type": "execute_result"
    }
   ],
   "source": [
    "len(feature_maps)\n",
    "list(feature_maps[1].shape)"
   ]
  },
  {
   "cell_type": "markdown",
   "metadata": {
    "id": "Pf3SZoFu4CKQ"
   },
   "source": [
    "For your testing purposes, the following code block tests the dimensions of part of the function output. Note that the first dimension is the batch size."
   ]
  },
  {
   "cell_type": "code",
   "execution_count": 124,
   "metadata": {
    "id": "Ow7jGdQ94CKR"
   },
   "outputs": [],
   "source": [
    "assert len(feature_maps) == 3\n",
    "assert list(feature_maps[0].shape) == [1, 64, 31, 31]"
   ]
  },
  {
   "cell_type": "markdown",
   "metadata": {
    "id": "yDmwrp-w4CKR"
   },
   "source": [
    "\n",
    "\n",
    "### 2.2.3 Display feature maps [4 marks]\n",
    "\n",
    "Using the code for displaying filters as reference, write code in the block below to display the outputs of the first **16 feature maps from each of the 3 max-pool layers**."
   ]
  },
  {
   "cell_type": "code",
   "execution_count": 126,
   "metadata": {
    "id": "Y2O8TZG74CKS"
   },
   "outputs": [
    {
     "data": {
      "image/png": "[encoded data removed]",
      "text/plain": [
       "<Figure size 432x288 with 1 Axes>"
      ]
     },
     "metadata": {
      "needs_background": "light"
     },
     "output_type": "display_data"
    }
   ],
   "source": [
    "# limit how many filters to show\n",
    "to_show = 16\n",
    "\n",
    "# compute the dimensions of the plot\n",
    "plt_dim = int(math.sqrt(to_show))\n",
    "\n",
    "# plot the first channel of each filter in a grid\n",
    "for i, filt in enumerate(feature_maps[0].detach().numpy()[:to_show]):\n",
    "    plt.subplot(plt_dim, plt_dim, i+1)\n",
    "    plt.imshow(filt[0], cmap=\"gray\")\n",
    "    plt.axis('off')\n",
    "plt.show()"
   ]
  },
  {
   "cell_type": "code",
   "execution_count": 127,
   "metadata": {},
   "outputs": [
    {
     "data": {
      "image/png": "[encoded data removed]",
      "text/plain": [
       "<Figure size 432x288 with 1 Axes>"
      ]
     },
     "metadata": {
      "needs_background": "light"
     },
     "output_type": "display_data"
    }
   ],
   "source": [
    "# limit how many filters to show\n",
    "to_show = 16\n",
    "\n",
    "# compute the dimensions of the plot\n",
    "plt_dim = int(math.sqrt(to_show))\n",
    "\n",
    "# plot the first channel of each filter in a grid\n",
    "for i, filt in enumerate(feature_maps[1].detach().numpy()[:to_show]):\n",
    "    plt.subplot(plt_dim, plt_dim, i+1)\n",
    "    plt.imshow(filt[0], cmap=\"gray\")\n",
    "    plt.axis('off')\n",
    "plt.show()"
   ]
  },
  {
   "cell_type": "code",
   "execution_count": 128,
   "metadata": {},
   "outputs": [
    {
     "data": {
      "image/png": "[encoded data removed]",
      "text/plain": [
       "<Figure size 432x288 with 1 Axes>"
      ]
     },
     "metadata": {
      "needs_background": "light"
     },
     "output_type": "display_data"
    }
   ],
   "source": [
    "# limit how many filters to show\n",
    "to_show = 16\n",
    "\n",
    "# compute the dimensions of the plot\n",
    "plt_dim = int(math.sqrt(to_show))\n",
    "\n",
    "# plot the first channel of each filter in a grid\n",
    "for i, filt in enumerate(feature_maps[2].detach().numpy()[:to_show]):\n",
    "    plt.subplot(plt_dim, plt_dim, i+1)\n",
    "    plt.imshow(filt[0], cmap=\"gray\")\n",
    "    plt.axis('off')\n",
    "plt.show()"
   ]
  },
  {
   "cell_type": "markdown",
   "metadata": {
    "id": "BZNGf5WQ4CKG"
   },
   "source": [
    "\n",
    "\n",
    "\n",
    "## 2.3 Understanding of filters and feature maps [7 marks]\n",
    "\n",
    "Respond in detail to the questions below. (Note that all text boxes can be formatted using Markdown if desired).\n",
    "\n",
    "### 2.3.1 [3 marks]\n",
    "Describe what the three filters at indices 0, 4, and 6 from the first convolutional layer are detecting (reference the corresponding feature maps to support your discussion).\n"
   ]
  },
  {
   "cell_type": "markdown",
   "metadata": {},
   "source": [
    "--> Double click here to respond"
   ]
  },
  {
   "cell_type": "markdown",
   "metadata": {},
   "source": [
    "### 2.3.2 [2 marks]\n",
    "Discuss how the filters change with depth into the network."
   ]
  },
  {
   "cell_type": "markdown",
   "metadata": {},
   "source": [
    "--> The filter operate on the input data, and give activation accordingly. The values to the filter (the weights) are learned to activate on certain feature in the input data."
   ]
  },
  {
   "cell_type": "markdown",
   "metadata": {},
   "source": [
    "### 2.3.3 [2 marks]\n",
    "Discuss how the feature maps change with depth into the network."
   ]
  },
  {
   "cell_type": "markdown",
   "metadata": {},
   "source": [
    "--> The values of the feature map become increasingly sparse as the depth of the network increases."
   ]
  },
  {
   "cell_type": "markdown",
   "metadata": {
    "id": "ZXeO_agI4CKS"
   },
   "source": [
    "\n",
    "## 2.4 Gradient-weighted Class Activation Mapping (Grad-CAM) [17 marks]\n",
    "\n",
    "In this section, we will explore using Gradient-weighted Class Activation Mapping (Grad-CAM) to generate coarse localization maps highlighting the important regions in the test images guiding the model's prediction. We will continue using the pre-trained AlexNet.\n",
    "\n",
    "#### Preparation\n",
    ">It is recommended to first read the relevant paper [Grad-CAM: Visual Explanations from Deep Networks via Gradient-based Localization](https://arxiv.org/abs/1610.02391), and refer to relevant course material.\n",
    "\n",
    "#### The AlexNet class\n",
    "\n",
    ">To implement Grad-CAM, we need to edit the AlexNet ```module``` class itself, so instead of loading the AlexNet model from ```torch.hub``` as we did above, we will use the official PyTorch AlexNet class code ([taken from here](https://pytorch.org/vision/stable/_modules/torchvision/models/alexnet.html)). In addition to the class definition, there is also a function below called ```alexnet()``` which allows you to specify whether you want the pretrained version or not, and if so, loads the weights. \n",
    "\n",
    "#### The hook\n",
    "\n",
    ">[Hooks](https://pytorch.org/tutorials/beginner/former_torchies/nnft_tutorial.html#forward-and-backward-function-hooks) in PyTorch are functions which can be registered, or attached, to a ```Module``` or ```Tensor```. Hooks can be *forward* hooks or *backward* hooks; forward hooks are called with ```forward()``` and backward hooks with ```backward()```. In the model below, we register a forward hook that saves the **gradients of the activations** to the Tensor output of ```model.features```. The gradients are saved to a class variable so we can easily access them.\n",
    "\n",
    "Carefully read the code block below. You do not need to add anything to the model."
   ]
  },
  {
   "cell_type": "code",
   "execution_count": null,
   "metadata": {
    "id": "74G4wPeG4CKS"
   },
   "outputs": [],
   "source": [
    "# defining where to load the pre-trained weights from\n",
    "model_urls = {\n",
    "    'alexnet': 'https://download.pytorch.org/models/alexnet-owt-7be5be79.pth',\n",
    "}\n",
    "\n",
    "# the class definition\n",
    "class AlexNet(nn.Module):\n",
    "\n",
    "    def __init__(self, num_classes=1000):\n",
    "        super(AlexNet, self).__init__()\n",
    "        \n",
    "        # a placeholder for storing the gradients\n",
    "        self.gradients = None\n",
    "        \n",
    "        self.features = nn.Sequential(\n",
    "            nn.Conv2d(3, 64, kernel_size=11, stride=4, padding=2),\n",
    "            nn.ReLU(inplace=True),\n",
    "            nn.MaxPool2d(kernel_size=3, stride=2),\n",
    "            nn.Conv2d(64, 192, kernel_size=5, padding=2),\n",
    "            nn.ReLU(inplace=True),\n",
    "            nn.MaxPool2d(kernel_size=3, stride=2),\n",
    "            nn.Conv2d(192, 384, kernel_size=3, padding=1),\n",
    "            nn.ReLU(inplace=True),\n",
    "            nn.Conv2d(384, 256, kernel_size=3, padding=1),\n",
    "            nn.ReLU(inplace=True),\n",
    "            nn.Conv2d(256, 256, kernel_size=3, padding=1),\n",
    "            nn.ReLU(inplace=True),\n",
    "            nn.MaxPool2d(kernel_size=3, stride=2),\n",
    "        )\n",
    "        \n",
    "        self.avgpool = nn.AdaptiveAvgPool2d((6, 6))\n",
    "        self.classifier = nn.Sequential(\n",
    "            nn.Dropout(),\n",
    "            nn.Linear(256 * 6 * 6, 4096),\n",
    "            nn.ReLU(inplace=True),\n",
    "            nn.Dropout(),\n",
    "            nn.Linear(4096, 4096),\n",
    "            nn.ReLU(inplace=True),\n",
    "            nn.Linear(4096, num_classes),\n",
    "        )\n",
    "        \n",
    "    # the hook for the gradients of the activations\n",
    "    def activations_hook(self, grad):\n",
    "        # stores the gradients of the hook's tensor to our placeholder variable\n",
    "        self.gradients = grad\n",
    "\n",
    "    # a method for extracting the activations of the last conv layer only (when we're \n",
    "    # not interested in a full forward pass)\n",
    "    def get_activations(self, x):\n",
    "        return self.features(x)\n",
    "    \n",
    "    def forward(self, x):\n",
    "        x = self.features(x)\n",
    "        \n",
    "        # we register the hook here to save the gradients of the last convolutional\n",
    "        # layer outputs\n",
    "        hook = x.register_hook(self.activations_hook)\n",
    "        \n",
    "        x = self.avgpool(x)\n",
    "        x = torch.flatten(x, 1)\n",
    "        x = self.classifier(x)\n",
    "        return x\n",
    "\n",
    "\n",
    "def alexnet(pretrained=False, progress=True, **kwargs) -> AlexNet:\n",
    "    \"\"\"AlexNet model architecture from the\n",
    "    `\"One weird trick...\" <https://arxiv.org/abs/1404.5997>`_ paper.\n",
    "\n",
    "    Args:\n",
    "        pretrained (bool): If True, returns a model pre-trained on ImageNet\n",
    "        progress (bool): If True, displays a progress bar of the download to stderr\n",
    "    \"\"\"\n",
    "    model = AlexNet(**kwargs)\n",
    "    if pretrained:\n",
    "        state_dict = load_state_dict_from_url(model_urls['alexnet'],\n",
    "                                              progress=progress)\n",
    "        model.load_state_dict(state_dict)\n",
    "    return model"
   ]
  },
  {
   "cell_type": "code",
   "execution_count": null,
   "metadata": {
    "id": "8FZEiLFv4CKT"
   },
   "outputs": [],
   "source": [
    "model = alexnet(pretrained=True)"
   ]
  },
  {
   "cell_type": "code",
   "execution_count": null,
   "metadata": {
    "id": "WiBjgrST4CKT"
   },
   "outputs": [],
   "source": [
    "# pass our test image through our new model with the hook\n",
    "output = model(im.unsqueeze(0))\n",
    "\n",
    "# save the predicted class\n",
    "_, pred_cls = output.max(dim=1, keepdim=True)"
   ]
  },
  {
   "cell_type": "markdown",
   "metadata": {
    "id": "GzCYhGyI4CKT"
   },
   "source": [
    "Examine and understand the values stored in ```output``` and ```pred_cls```. What does AlexNet classify the test image as?"
   ]
  },
  {
   "cell_type": "code",
   "execution_count": null,
   "metadata": {
    "id": "TU5QjsuP4CKU"
   },
   "outputs": [],
   "source": []
  },
  {
   "cell_type": "markdown",
   "metadata": {
    "id": "Mr4svXcg4CKU"
   },
   "source": [
    "### 2.4.1 Generate Grad-CAM heatmaps [8 marks]\n",
    "\n",
    "With the hooks in place, now implement the code to generate Grad-CAM heatmaps, by following the guiding comments in the code block below."
   ]
  },
  {
   "cell_type": "code",
   "execution_count": 1,
   "metadata": {
    "id": "Rdlr69tw4CKU"
   },
   "outputs": [],
   "source": [
    "def generate_heatmap(output, class_id, model, image):\n",
    "    \n",
    "    # 1. compute the gradient of the score for the predicted class (logit)\n",
    "    # with respect to the feature map activations of the last convolutional layer\n",
    "    # Hint: calling .backward() on a Tensor computes its gradients\n",
    "    # TO COMPLETE\n",
    "    \n",
    "    # 2. get the gradients from the model placeholder variable\n",
    "    # TO COMPLETE\n",
    "    assert list(gradients.shape) == [1, 256, 7, 7]\n",
    "    \n",
    "    # pool the gradients across the channels\n",
    "    pooled_gradients = torch.mean(gradients, dim=[0, 2, 3])\n",
    "    assert list(pooled_gradients.shape) == [256]\n",
    "    \n",
    "    # 3. get the activations of the last convolutional layer\n",
    "    # TO COMPLETE\n",
    "    assert list(activations.shape) == [1, 256, 7, 7]\n",
    "    \n",
    "    # 4. weight (multiply) the channels (dim=1 of activations) by the corresponding\n",
    "    # gradients (pooled_gradients)\n",
    "    # TO COMPLETE\n",
    "\n",
    "    # average the channels of the activations and squeeze out the extra dimension\n",
    "    heatmap = torch.mean(activations, dim=1).squeeze()\n",
    "    assert list(heatmap.shape) == [7, 7]\n",
    "    \n",
    "    # 5. apply a ReLU to the linear combination of maps because we are only \n",
    "    # interested in the features that have a positive influence on the class of \n",
    "    # interest, i.e. pixels whose intensity should be increased in order to increase y\n",
    "    # Hint: you can use np.maximum() and torch.max() to perform ReLU if you prefer.\n",
    "    \n",
    "    # TO COMPLETE\n",
    "    # return heatmap"
   ]
  },
  {
   "cell_type": "code",
   "execution_count": null,
   "metadata": {
    "id": "4PEmi-aM4CKU"
   },
   "outputs": [],
   "source": [
    "heatmap = generate_heatmap(output, pred_cls, model, im.unsqueeze(0))"
   ]
  },
  {
   "cell_type": "markdown",
   "metadata": {
    "id": "eaiH3MIO4CKV"
   },
   "source": [
    "Check the dimensions of ```heatmap```. Do they make sense?"
   ]
  },
  {
   "cell_type": "code",
   "execution_count": null,
   "metadata": {
    "id": "qigb0A9F4CKV"
   },
   "outputs": [],
   "source": []
  },
  {
   "cell_type": "markdown",
   "metadata": {
    "id": "rvyCYUpw4CKW"
   },
   "source": [
    "### 2.4.2 Display heatmaps [4 marks]\n",
    "\n",
    "Display ```heatmap``` as a coloured heatmap super-imposed onto the original image. To get results as shown in the paper, we recommend the following steps:\n",
    "\n",
    "1. Resize the heatmap to match the size of the image.\n",
    "2. Rescale the image to a 0-255 integer range.\n",
    "3. Apply a colormap to the heatmap using ```cv2.applyColorMap(heatmap, cv2.COLORMAP_JET)```.\n",
    "4. Multiply all values of heatmap by 0.4 to reduce colour saturation.\n",
    "5. Superimpose the heatmap onto the original image (Note: please perform cv2's addition - addition of two cv2 images, not numpy addition. See [here](https://opencv24-python-tutorials.readthedocs.io/en/latest/py_tutorials/py_core/py_image_arithmetics/py_image_arithmetics.html#:~:text=addWeighted()%20etc.-,Image%20Addition,OpenCV%20addition%20and%20Numpy%20addition.) for explanation.)\n",
    "6. Normalize the image between 0-255 again.\n",
    "7. Display the resulting image."
   ]
  },
  {
   "cell_type": "code",
   "execution_count": null,
   "metadata": {
    "id": "GwTIJoh84CKX"
   },
   "outputs": [],
   "source": [
    "# TO COMPLETE"
   ]
  },
  {
   "cell_type": "markdown",
   "metadata": {
    "id": "Nf9aa-2V4CKX"
   },
   "source": [
    "Show the heatmap for class ```'seashore, coast, seacoast, sea-coast'``` (```class_id = 978```), super-imposed onto the original image."
   ]
  },
  {
   "cell_type": "code",
   "execution_count": null,
   "metadata": {},
   "outputs": [],
   "source": [
    "# TO COMPLETE"
   ]
  },
  {
   "cell_type": "code",
   "execution_count": null,
   "metadata": {},
   "outputs": [],
   "source": []
  },
  {
   "cell_type": "markdown",
   "metadata": {},
   "source": [
    "### 2.4.3 Failure analysis using Grad-CAM [5 marks]\n",
    "\n",
    "Find an image (online, or from ImageNet or another dataset) which AlexNet classifies *incorrectly*. Display the image below, and show the model's predicted class. Then, generate the Grad-CAM heatmap and display it super-imposed onto the image."
   ]
  },
  {
   "cell_type": "code",
   "execution_count": null,
   "metadata": {},
   "outputs": [],
   "source": [
    "# TO COMPLETE"
   ]
  },
  {
   "cell_type": "code",
   "execution_count": null,
   "metadata": {},
   "outputs": [],
   "source": []
  },
  {
   "cell_type": "code",
   "execution_count": null,
   "metadata": {},
   "outputs": [],
   "source": []
  },
  {
   "cell_type": "markdown",
   "metadata": {},
   "source": [
    "Briefly describe what explanation the Grad-CAM heatmap provides about why the model has failed to correctly classify your test image."
   ]
  },
  {
   "cell_type": "markdown",
   "metadata": {},
   "source": [
    "--> Double click to respond here"
   ]
  },
  {
   "cell_type": "code",
   "execution_count": null,
   "metadata": {},
   "outputs": [],
   "source": []
  },
  {
   "cell_type": "markdown",
   "metadata": {},
   "source": [
    "### 3 Overall quality [2 marks]\n",
    "\n",
    "Marks awarded for overall degree of code readibility and omission of unnecessary messy outupts (for example, please avoid printed losses for every batch of a long training process, large numpy arrays, etc.) throughout the work."
   ]
  },
  {
   "cell_type": "markdown",
   "metadata": {},
   "source": [
    "**Please refer to the submission section at the top of this notebook to prepare your submission.**\n"
   ]
  },
  {
   "cell_type": "code",
   "execution_count": null,
   "metadata": {},
   "outputs": [],
   "source": []
  }
 ],
 "metadata": {
  "colab": {
   "name": "COMP5623M_CW1_Q2.ipynb",
   "provenance": []
  },
  "kernelspec": {
   "display_name": "Python 3",
   "language": "python",
   "name": "python3"
  },
  "language_info": {
   "codemirror_mode": {
    "name": "ipython",
    "version": 3
   },
   "file_extension": ".py",
   "mimetype": "text/x-python",
   "name": "python",
   "nbconvert_exporter": "python",
   "pygments_lexer": "ipython3",
   "version": "3.8.8"
  }
 },
 "nbformat": 4,
 "nbformat_minor": 1
}
